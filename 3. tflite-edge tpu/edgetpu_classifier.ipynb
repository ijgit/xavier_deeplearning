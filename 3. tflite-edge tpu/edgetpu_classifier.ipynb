{
 "cells": [
  {
   "cell_type": "markdown",
   "id": "53864eaa-c063-478b-95ef-5330463af74d",
   "metadata": {
    "execution": {
     "iopub.execute_input": "2021-11-08T03:14:02.226300Z",
     "iopub.status.busy": "2021-11-08T03:14:02.224690Z",
     "iopub.status.idle": "2021-11-08T03:14:02.236124Z",
     "shell.execute_reply": "2021-11-08T03:14:02.234080Z",
     "shell.execute_reply.started": "2021-11-08T03:14:02.226195Z"
    },
    "tags": []
   },
   "source": [
    "# Import Libraries"
   ]
  },
  {
   "cell_type": "code",
   "execution_count": 1,
   "id": "1386d694-fd46-41b6-ac0a-92d1b6b9e545",
   "metadata": {
    "tags": []
   },
   "outputs": [],
   "source": [
    "import tensorflow as tf\n",
    "assert float(tf.__version__[:3]) >= 2.3\n",
    "\n",
    "import os\n",
    "import numpy as np\n",
    "import glob\n",
    "import time\n",
    "import matplotlib.pyplot as plt\n",
    "import time\n",
    "from tensorflow.keras.preprocessing import image\n",
    "\n",
    "from tensorflow.keras.applications.resnet50 import ResNet50, preprocess_input, decode_predictions"
   ]
  },
  {
   "cell_type": "markdown",
   "id": "94a8637c-29f1-4694-94df-816414702f15",
   "metadata": {
    "tags": []
   },
   "source": [
    "# download data"
   ]
  },
  {
   "cell_type": "code",
   "execution_count": 2,
   "id": "be4ed281-65aa-4cbc-a41a-dd64f8d06acd",
   "metadata": {
    "tags": []
   },
   "outputs": [
    {
     "name": "stdout",
     "output_type": "stream",
     "text": [
      "--2022-01-27 12:59:11--  https://d17fnq9dkz9hgj.cloudfront.net/breed-uploads/2018/08/siberian-husky-detail.jpg?bust=1535566590&width=630\n",
      "Resolving d17fnq9dkz9hgj.cloudfront.net (d17fnq9dkz9hgj.cloudfront.net)... 54.192.175.97, 54.192.175.115, 54.192.175.163, ...\n",
      "Connecting to d17fnq9dkz9hgj.cloudfront.net (d17fnq9dkz9hgj.cloudfront.net)|54.192.175.97|:443... connected.\n",
      "HTTP request sent, awaiting response... 200 OK\n",
      "Length: 24112 (24K) [image/jpeg]\n",
      "Saving to: ‘data/img0.JPG’\n",
      "\n",
      "data/img0.JPG       100%[===================>]  23.55K  --.-KB/s    in 0.005s  \n",
      "\n",
      "2022-01-27 12:59:11 (5.03 MB/s) - ‘data/img0.JPG’ saved [24112/24112]\n",
      "\n",
      "--2022-01-27 12:59:11--  https://www.hakaimagazine.com/wp-content/uploads/header-gulf-birds.jpg\n",
      "Resolving www.hakaimagazine.com (www.hakaimagazine.com)... 164.92.73.117\n",
      "Connecting to www.hakaimagazine.com (www.hakaimagazine.com)|164.92.73.117|:443... connected.\n",
      "HTTP request sent, awaiting response... 200 OK\n",
      "Length: 452718 (442K) [image/jpeg]\n",
      "Saving to: ‘data/img1.JPG’\n",
      "\n",
      "data/img1.JPG       100%[===================>] 442.11K   960KB/s    in 0.5s    \n",
      "\n",
      "2022-01-27 12:59:13 (960 KB/s) - ‘data/img1.JPG’ saved [452718/452718]\n",
      "\n",
      "--2022-01-27 12:59:13--  https://www.artis.nl/media/filer_public_thumbnails/filer_public/00/f1/00f1b6db-fbed-4fef-9ab0-84e944ff11f8/chimpansee_amber_r_1920x1080.jpg__1920x1080_q85_subject_location-923%2C365_subsampling-2.jpg\n",
      "Resolving www.artis.nl (www.artis.nl)... 94.75.225.20\n",
      "Connecting to www.artis.nl (www.artis.nl)|94.75.225.20|:443... connected.\n",
      "HTTP request sent, awaiting response... 200 OK\n",
      "Length: 361413 (353K) [image/jpeg]\n",
      "Saving to: ‘data/img2.JPG’\n",
      "\n",
      "data/img2.JPG       100%[===================>] 352.94K   172KB/s    in 2.0s    \n",
      "\n",
      "2022-01-27 12:59:19 (172 KB/s) - ‘data/img2.JPG’ saved [361413/361413]\n",
      "\n",
      "--2022-01-27 12:59:19--  https://www.familyhandyman.com/wp-content/uploads/2018/09/How-to-Avoid-Snakes-Slithering-Up-Your-Toilet-shutterstock_780480850.jpg\n",
      "Resolving www.familyhandyman.com (www.familyhandyman.com)... 104.18.202.107, 104.18.201.107, 2606:4700::6812:c96b, ...\n",
      "Connecting to www.familyhandyman.com (www.familyhandyman.com)|104.18.202.107|:443... connected.\n",
      "HTTP request sent, awaiting response... 200 OK\n",
      "Length: 90994 (89K) [image/jpeg]\n",
      "Saving to: ‘data/img3.JPG’\n",
      "\n",
      "data/img3.JPG       100%[===================>]  88.86K  --.-KB/s    in 0.008s  \n",
      "\n",
      "2022-01-27 12:59:19 (10.2 MB/s) - ‘data/img3.JPG’ saved [90994/90994]\n",
      "\n"
     ]
    }
   ],
   "source": [
    "!mkdir data\n",
    "\n",
    "!wget  -O data/img0.JPG \"https://d17fnq9dkz9hgj.cloudfront.net/breed-uploads/2018/08/siberian-husky-detail.jpg?bust=1535566590&width=630\"\n",
    "!wget  -O data/img1.JPG \"https://www.hakaimagazine.com/wp-content/uploads/header-gulf-birds.jpg\"\n",
    "!wget  -O data/img2.JPG \"https://www.artis.nl/media/filer_public_thumbnails/filer_public/00/f1/00f1b6db-fbed-4fef-9ab0-84e944ff11f8/chimpansee_amber_r_1920x1080.jpg__1920x1080_q85_subject_location-923%2C365_subsampling-2.jpg\"\n",
    "!wget  -O data/img3.JPG \"https://www.familyhandyman.com/wp-content/uploads/2018/09/How-to-Avoid-Snakes-Slithering-Up-Your-Toilet-shutterstock_780480850.jpg\""
   ]
  },
  {
   "cell_type": "markdown",
   "id": "67280c98-5678-4365-9226-cee0a042dd87",
   "metadata": {},
   "source": [
    "# Save resnet model\n",
    "\n",
    "예제에 사용하는 resnet50 모델을 다운받아 saved_model 형식으로 저장합니다.\n",
    "\n",
    "가중치는 imagenet 을 사용합니다."
   ]
  },
  {
   "cell_type": "code",
   "execution_count": 3,
   "id": "c10d9501-6255-467d-b1d0-ab1fc28d8646",
   "metadata": {
    "tags": []
   },
   "outputs": [
    {
     "name": "stdout",
     "output_type": "stream",
     "text": [
      "WARNING:tensorflow:Compiled the loaded model, but the compiled metrics have yet to be built. `model.compile_metrics` will be empty until you train or evaluate the model.\n"
     ]
    },
    {
     "name": "stderr",
     "output_type": "stream",
     "text": [
      "/home/keti/tf_2.5.0/lib/python3.6/site-packages/tensorflow/python/keras/utils/generic_utils.py:497: CustomMaskWarning: Custom mask layers require a config and must override get_config. When loading, the custom mask layer must be passed to the custom_objects argument.\n",
      "  category=CustomMaskWarning)\n"
     ]
    },
    {
     "name": "stdout",
     "output_type": "stream",
     "text": [
      "INFO:tensorflow:Assets written to: resnet50_saved_model/assets\n"
     ]
    }
   ],
   "source": [
    "model = ResNet50(weights='imagenet')\n",
    "model.save('resnet50_saved_model') "
   ]
  },
  {
   "cell_type": "markdown",
   "id": "165c686c-e279-4662-a868-c5848f869ba7",
   "metadata": {},
   "source": [
    "# Convertng saved model to tflite model"
   ]
  },
  {
   "cell_type": "code",
   "execution_count": 2,
   "id": "a112b96d-5678-42c9-835e-449a30c4074f",
   "metadata": {
    "tags": []
   },
   "outputs": [
    {
     "name": "stderr",
     "output_type": "stream",
     "text": [
      "WARNING:absl:For model inputs containing unsupported operations which cannot be quantized, the `inference_input_type` attribute will default to the original type.\n"
     ]
    }
   ],
   "source": [
    "# A generator that provides a representative dataset\n",
    "def representative_data_gen():\n",
    "    dataset_list = glob.glob('./data/*')\n",
    "    for i in range(100):\n",
    "        image = next(iter(dataset_list))\n",
    "        image = tf.io.read_file(image)\n",
    "        \n",
    "        image = tf.io.decode_jpeg(image, channels=3)\n",
    "        image = tf.image.resize(image, [224, 224])\n",
    "        image = tf.cast(image / 255., tf.float32)\n",
    "        image = tf.expand_dims(image, 0)\n",
    "        yield [image]\n",
    "\n",
    "# path to the SavedModel directory\n",
    "converter = tf.lite.TFLiteConverter.from_saved_model('resnet50_saved_model') \n",
    "\n",
    "# This enables quantization\n",
    "converter.optimizations = [tf.lite.Optimize.DEFAULT]  \n",
    "\n",
    " # This sets the representative dataset for quantization\n",
    "converter.representative_dataset = representative_data_gen  \n",
    "\n",
    "# This ensures that if any ops can't be quantized, the converter throws an error\n",
    "converter.target_spec.supported_ops = [tf.lite.OpsSet.TFLITE_BUILTINS_INT8]\n",
    "\n",
    "# For full integer quantization, though supported types defaults to int8 only, we explicitly declare it for clarity.\n",
    "converter.target_spec.supported_types = [tf.int8] \n",
    "\n",
    "# These set the input and output tensors to uint8 (added in r2.3)\n",
    "converter.inference_input_type = tf.uint8\n",
    "converter.inference_output_type = tf.uint8\n",
    "tflite_model = converter.convert()\n",
    "\n",
    "# Save the model.\n",
    "with open('resnet50.tflite', 'wb') as f:\n",
    "    f.write(tflite_model)"
   ]
  },
  {
   "cell_type": "markdown",
   "id": "33c2492c-38ea-4322-9bf7-ac36554e6179",
   "metadata": {},
   "source": [
    "# Test converted model"
   ]
  },
  {
   "cell_type": "markdown",
   "id": "4e777009-40e6-4a08-8f33-cfde7d66c791",
   "metadata": {},
   "source": [
    "## test base resnet50 tflite model"
   ]
  },
  {
   "cell_type": "code",
   "execution_count": 3,
   "id": "33629bad-6f62-4476-af96-91d3dc5e06cd",
   "metadata": {
    "tags": []
   },
   "outputs": [],
   "source": [
    "import tflite_runtime.interpreter as tflite\n",
    "\n",
    "interpreter = tflite.Interpreter('resnet50.tflite' , \n",
    "                          experimental_delegates=[tflite.load_delegate('libedgetpu.so.1')])\n",
    "\n",
    "interpreter.allocate_tensors()"
   ]
  },
  {
   "cell_type": "markdown",
   "id": "95ef1fa4-5d3a-4721-83fc-3d6b71003a40",
   "metadata": {},
   "source": [
    "### Test speed"
   ]
  },
  {
   "cell_type": "code",
   "execution_count": 4,
   "id": "f9550de2-3bdb-453f-a519-2c6e27dafa86",
   "metadata": {
    "tags": []
   },
   "outputs": [],
   "source": [
    "# 2. input 값을 설정\n",
    "\n",
    "# Get input and output tensors.\n",
    "input_details = interpreter.get_input_details()\n",
    "output_details = interpreter.get_output_details()\n",
    "\n",
    "# Test the model on random input data.\n",
    "img_path = 'data/img0.JPG'  # Siberian_husky\n",
    "img = image.load_img(img_path, target_size=(224, 224))\n",
    "x = image.img_to_array(img)\n",
    "x = np.expand_dims(x, axis=0)\n",
    "x = preprocess_input(x)\n",
    "x = tf.constant(x)\n",
    "\n",
    "input_shape = input_details[0]['shape']\n",
    "input_data = np.array(x, dtype=np.uint8)\n",
    "interpreter.set_tensor(input_details[0]['index'], input_data)"
   ]
  },
  {
   "cell_type": "code",
   "execution_count": 5,
   "id": "acd02724-b33f-40b2-b245-87ae632c0632",
   "metadata": {
    "tags": []
   },
   "outputs": [
    {
     "name": "stdout",
     "output_type": "stream",
     "text": [
      "term: 0.7660369873046875 sec\n",
      "term: 0.7443368434906006 sec\n",
      "term: 0.7415304183959961 sec\n",
      "term: 0.7364492416381836 sec\n",
      "term: 0.7397317886352539 sec\n",
      "term: 0.7374796867370605 sec\n",
      "term: 0.7354466915130615 sec\n",
      "term: 0.7444286346435547 sec\n",
      "term: 0.7341039180755615 sec\n",
      "term: 0.7413420677185059 sec\n",
      "term: 0.7370338439941406 sec\n",
      "term: 0.7369136810302734 sec\n",
      "term: 0.7333879470825195 sec\n",
      "term: 0.7377409934997559 sec\n",
      "term: 0.7296833992004395 sec\n",
      "term: 0.7348015308380127 sec\n",
      "term: 0.7292580604553223 sec\n",
      "term: 0.732677698135376 sec\n",
      "term: 0.7399327754974365 sec\n",
      "term: 0.7408628463745117 sec\n",
      "term: 0.7405843734741211 sec\n",
      "term: 0.7362217903137207 sec\n",
      "term: 0.7428665161132812 sec\n",
      "term: 0.7329473495483398 sec\n",
      "term: 0.7420308589935303 sec\n",
      "term: 0.7382183074951172 sec\n",
      "term: 0.7355027198791504 sec\n",
      "term: 0.7346653938293457 sec\n",
      "term: 0.7360749244689941 sec\n",
      "term: 0.7385683059692383 sec\n",
      "term: 0.7370834350585938 sec\n",
      "term: 0.7302224636077881 sec\n",
      "term: 0.738215446472168 sec\n",
      "term: 0.7324955463409424 sec\n",
      "term: 0.7351486682891846 sec\n",
      "term: 0.7378270626068115 sec\n",
      "term: 0.7422287464141846 sec\n",
      "term: 0.7303166389465332 sec\n",
      "term: 0.7295064926147461 sec\n",
      "term: 0.7373816967010498 sec\n",
      "term: 0.7351171970367432 sec\n",
      "term: 0.7342689037322998 sec\n",
      "term: 0.7298338413238525 sec\n",
      "term: 0.7330725193023682 sec\n",
      "term: 0.7345399856567383 sec\n",
      "term: 0.7282373905181885 sec\n",
      "term: 0.7323246002197266 sec\n",
      "term: 0.7325758934020996 sec\n",
      "term: 0.728971004486084 sec\n",
      "term: 0.731081485748291 sec\n"
     ]
    }
   ],
   "source": [
    "for i in range(0, 50):\n",
    "    start_time = time.time()\n",
    "    interpreter.invoke()\n",
    "    end_time = time.time()\n",
    "    term = end_time - start_time\n",
    "    print(f'term: {term} sec')"
   ]
  },
  {
   "cell_type": "markdown",
   "id": "dcbdc02e-6dbd-46a0-b2ec-f0687e80378e",
   "metadata": {},
   "source": [
    "## test compiled tflite model\n",
    "\n",
    "`edgetpu_compiler` 를 실행하여 모델을 컴파일한다. 컴파일이 성공하면 뒤에 `_edgetpu` 가 붙은 `tflite` 모델이 생성된다. \n",
    "예시로 `resnet50.tflite` 파일을 컴파일하면 `resnet50_edgetpu.tflite` 가 생성된다\n",
    "\n",
    "\n",
    "```bash\n",
    "$ edgetpu_compiler resnet50.tflite\n",
    "Edge TPU Compiler version 2.0.291256449\n",
    "\n",
    "Model compiled successfully in 1618 ms.\n",
    "\n",
    "Input model: resnet50.tflite\n",
    "Input size: 25.08MiB\n",
    "Output model: resnet50_edgetpu.tflite\n",
    "Output size: 24.87MiB\n",
    "On-chip memory available for caching model parameters: 6.25MiB\n",
    "On-chip memory used for caching model parameters: 6.25MiB\n",
    "Off-chip memory used for streaming uncached model parameters: 18.43MiB\n",
    "Number of Edge TPU subgraphs: 1\n",
    "Total number of operations: 77\n",
    "Operation log: resnet50_edgetpu.log\n",
    "See the operation log file for individual operation details.\n",
    "```"
   ]
  },
  {
   "cell_type": "code",
   "execution_count": 7,
   "id": "1f0e15f0-c05d-483a-a3c7-ad37ac74d63f",
   "metadata": {},
   "outputs": [
    {
     "name": "stdout",
     "output_type": "stream",
     "text": [
      "/bin/bash: edgetpu_compiler: command not found\n"
     ]
    }
   ],
   "source": [
    "'''\n",
    "아래처럼 jupyterlab 에서 실행하면 command not found 오류가 발생한다.\n",
    "ssh 접속창 또는 터미널에서 직접 실행해야한다.\n",
    "\n",
    "'''\n",
    "! edgetpu_compiler resnet50.tflite"
   ]
  },
  {
   "cell_type": "code",
   "execution_count": 8,
   "id": "ee33e7b0-fa58-4571-b57a-602516e7430b",
   "metadata": {
    "tags": []
   },
   "outputs": [],
   "source": [
    "import tflite_runtime.interpreter as tflite\n",
    "\n",
    "interpreter = tflite.Interpreter('resnet50_edgetpu.tflite' , \n",
    "                          experimental_delegates=[tflite.load_delegate('libedgetpu.so.1')])\n",
    "interpreter.allocate_tensors()"
   ]
  },
  {
   "cell_type": "code",
   "execution_count": 9,
   "id": "128f476b-f4d4-4ce3-96f2-be0c7cc243fc",
   "metadata": {
    "tags": []
   },
   "outputs": [],
   "source": [
    "# 2. input 값을 설정\n",
    "\n",
    "# Get input and output tensors.\n",
    "input_details = interpreter.get_input_details()\n",
    "output_details = interpreter.get_output_details()\n",
    "\n",
    "# Test the model on random input data.\n",
    "img_path = 'data/img0.JPG'  # Siberian_husky\n",
    "img = image.load_img(img_path, target_size=(224, 224))\n",
    "x = image.img_to_array(img)\n",
    "x = np.expand_dims(x, axis=0)\n",
    "x = preprocess_input(x)\n",
    "x = tf.constant(x)\n",
    "\n",
    "input_shape = input_details[0]['shape']\n",
    "input_data = np.array(x, dtype=np.uint8)\n",
    "interpreter.set_tensor(input_details[0]['index'], input_data)"
   ]
  },
  {
   "cell_type": "code",
   "execution_count": 10,
   "id": "8e0d8f2c-075a-4e79-8bd7-e5145cf760b6",
   "metadata": {
    "tags": []
   },
   "outputs": [
    {
     "name": "stdout",
     "output_type": "stream",
     "text": [
      "term: 0.05910038948059082 sec\n",
      "term: 0.04474925994873047 sec\n",
      "term: 0.04481625556945801 sec\n",
      "term: 0.04474234580993652 sec\n",
      "term: 0.044895172119140625 sec\n",
      "term: 0.04508852958679199 sec\n",
      "term: 0.045134544372558594 sec\n",
      "term: 0.04532432556152344 sec\n",
      "term: 0.04476356506347656 sec\n",
      "term: 0.04505157470703125 sec\n",
      "term: 0.044956207275390625 sec\n",
      "term: 0.04482221603393555 sec\n",
      "term: 0.04490017890930176 sec\n",
      "term: 0.04475283622741699 sec\n",
      "term: 0.04395771026611328 sec\n",
      "term: 0.04442477226257324 sec\n",
      "term: 0.04492998123168945 sec\n",
      "term: 0.044834136962890625 sec\n",
      "term: 0.04517841339111328 sec\n",
      "term: 0.04442310333251953 sec\n",
      "term: 0.04395794868469238 sec\n",
      "term: 0.044403076171875 sec\n",
      "term: 0.04491138458251953 sec\n",
      "term: 0.04483342170715332 sec\n",
      "term: 0.044753074645996094 sec\n",
      "term: 0.04500412940979004 sec\n",
      "term: 0.04482007026672363 sec\n",
      "term: 0.04496169090270996 sec\n",
      "term: 0.044847726821899414 sec\n",
      "term: 0.044615745544433594 sec\n",
      "term: 0.04465985298156738 sec\n",
      "term: 0.04471921920776367 sec\n",
      "term: 0.04480743408203125 sec\n",
      "term: 0.04476618766784668 sec\n",
      "term: 0.044944047927856445 sec\n",
      "term: 0.04485630989074707 sec\n",
      "term: 0.044861793518066406 sec\n",
      "term: 0.044857025146484375 sec\n",
      "term: 0.044826507568359375 sec\n",
      "term: 0.04539370536804199 sec\n",
      "term: 0.04440045356750488 sec\n",
      "term: 0.04391360282897949 sec\n",
      "term: 0.04415178298950195 sec\n",
      "term: 0.04479789733886719 sec\n",
      "term: 0.04471278190612793 sec\n",
      "term: 0.04469943046569824 sec\n",
      "term: 0.04489707946777344 sec\n",
      "term: 0.04482603073120117 sec\n",
      "term: 0.04461359977722168 sec\n",
      "term: 0.044768333435058594 sec\n"
     ]
    }
   ],
   "source": [
    "total = 0\n",
    "for i in range(0, 50):\n",
    "    start_time = time.time()\n",
    "    interpreter.invoke()\n",
    "    end_time = time.time()\n",
    "    term = end_time - start_time\n",
    "    total += term\n",
    "    print(f'term: {term} sec')"
   ]
  },
  {
   "cell_type": "code",
   "execution_count": null,
   "id": "dded3c5d-ede9-4e64-833e-5324e4b9063e",
   "metadata": {},
   "outputs": [],
   "source": []
  }
 ],
 "metadata": {
  "kernelspec": {
   "display_name": "tf_2.5.0",
   "language": "python",
   "name": "tf_2.5.0"
  },
  "language_info": {
   "codemirror_mode": {
    "name": "ipython",
    "version": 3
   },
   "file_extension": ".py",
   "mimetype": "text/x-python",
   "name": "python",
   "nbconvert_exporter": "python",
   "pygments_lexer": "ipython3",
   "version": "3.6.9"
  }
 },
 "nbformat": 4,
 "nbformat_minor": 5
}
