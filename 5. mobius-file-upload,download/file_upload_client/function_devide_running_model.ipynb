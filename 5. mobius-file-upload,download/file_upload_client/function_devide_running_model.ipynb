{
 "cells": [
  {
   "cell_type": "markdown",
   "id": "a98e59ef-aa82-4cc1-951d-a4bcad14f0eb",
   "metadata": {
    "jp-MarkdownHeadingCollapsed": true,
    "tags": []
   },
   "source": [
    "# 1. Import Libraries\n",
    "\n",
    "resnet50 이 아닌 다른 모델을 사용할 경우 `resnet50` 이 아닌 다른 모델을 import 한다"
   ]
  },
  {
   "cell_type": "code",
   "execution_count": 1,
   "id": "199f6c92-a881-4b32-abf4-ac692bfeb458",
   "metadata": {},
   "outputs": [],
   "source": [
    "import os\n",
    "import glob\n",
    "import time\n",
    "\n",
    "import numpy as np\n",
    "import matplotlib.pyplot as plt\n",
    "\n",
    "import tensorflow as tf\n",
    "from tensorflow.keras.preprocessing import image\n",
    "from tensorflow.keras.applications.resnet50 import ResNet50, preprocess_input, decode_predictions\n",
    "import tflite_runtime.interpreter as tflite"
   ]
  },
  {
   "cell_type": "markdown",
   "id": "b3930f9b-8328-4f6f-a80a-5e5b194ddc72",
   "metadata": {
    "jp-MarkdownHeadingCollapsed": true,
    "tags": []
   },
   "source": [
    "# 2. Download Data"
   ]
  },
  {
   "cell_type": "code",
   "execution_count": 2,
   "id": "c4232531-65a0-4af8-b1d9-785426f50125",
   "metadata": {},
   "outputs": [],
   "source": [
    "!mkdir data"
   ]
  },
  {
   "cell_type": "code",
   "execution_count": 3,
   "id": "fa584fc3-9088-4f83-9471-4efc00054561",
   "metadata": {
    "collapsed": true,
    "jupyter": {
     "outputs_hidden": true
    },
    "tags": []
   },
   "outputs": [
    {
     "name": "stdout",
     "output_type": "stream",
     "text": [
      "--2021-11-22 11:35:46--  https://d17fnq9dkz9hgj.cloudfront.net/breed-uploads/2018/08/siberian-husky-detail.jpg?bust=1535566590&width=630\n",
      "Resolving d17fnq9dkz9hgj.cloudfront.net (d17fnq9dkz9hgj.cloudfront.net)... 13.225.112.108, 13.225.112.139, 13.225.112.72, ...\n",
      "Connecting to d17fnq9dkz9hgj.cloudfront.net (d17fnq9dkz9hgj.cloudfront.net)|13.225.112.108|:443... connected.\n",
      "HTTP request sent, awaiting response... 200 OK\n",
      "Length: 24112 (24K) [image/jpeg]\n",
      "Saving to: ‘data/img0.JPG’\n",
      "\n",
      "data/img0.JPG       100%[===================>]  23.55K   127KB/s    in 0.2s    \n",
      "\n",
      "2021-11-22 11:35:48 (127 KB/s) - ‘data/img0.JPG’ saved [24112/24112]\n",
      "\n",
      "--2021-11-22 11:35:48--  https://www.hakaimagazine.com/wp-content/uploads/header-gulf-birds.jpg\n",
      "Resolving www.hakaimagazine.com (www.hakaimagazine.com)... 164.92.73.117\n",
      "Connecting to www.hakaimagazine.com (www.hakaimagazine.com)|164.92.73.117|:443... connected.\n",
      "HTTP request sent, awaiting response... 200 OK\n",
      "Length: 452718 (442K) [image/jpeg]\n",
      "Saving to: ‘data/img1.JPG’\n",
      "\n",
      "data/img1.JPG       100%[===================>] 442.11K   186KB/s    in 2.4s    \n",
      "\n",
      "2021-11-22 11:35:55 (186 KB/s) - ‘data/img1.JPG’ saved [452718/452718]\n",
      "\n",
      "--2021-11-22 11:35:55--  https://www.artis.nl/media/filer_public_thumbnails/filer_public/00/f1/00f1b6db-fbed-4fef-9ab0-84e944ff11f8/chimpansee_amber_r_1920x1080.jpg__1920x1080_q85_subject_location-923%2C365_subsampling-2.jpg\n",
      "Resolving www.artis.nl (www.artis.nl)... 94.75.225.20\n",
      "Connecting to www.artis.nl (www.artis.nl)|94.75.225.20|:443... connected.\n",
      "HTTP request sent, awaiting response... 200 OK\n",
      "Length: 361413 (353K) [image/jpeg]\n",
      "Saving to: ‘data/img2.JPG’\n",
      "\n",
      "data/img2.JPG       100%[===================>] 352.94K   417KB/s    in 0.8s    \n",
      "\n",
      "2021-11-22 11:36:00 (417 KB/s) - ‘data/img2.JPG’ saved [361413/361413]\n",
      "\n",
      "--2021-11-22 11:36:00--  https://www.familyhandyman.com/wp-content/uploads/2018/09/How-to-Avoid-Snakes-Slithering-Up-Your-Toilet-shutterstock_780480850.jpg\n",
      "Resolving www.familyhandyman.com (www.familyhandyman.com)... 104.18.202.107, 104.18.201.107, 2606:4700::6812:c96b, ...\n",
      "Connecting to www.familyhandyman.com (www.familyhandyman.com)|104.18.202.107|:443... connected.\n",
      "HTTP request sent, awaiting response... 200 OK\n",
      "Length: 94328 (92K) [image/jpeg]\n",
      "Saving to: ‘data/img3.JPG’\n",
      "\n",
      "data/img3.JPG       100%[===================>]  92.12K   162KB/s    in 0.6s    \n",
      "\n",
      "2021-11-22 11:36:05 (162 KB/s) - ‘data/img3.JPG’ saved [94328/94328]\n",
      "\n"
     ]
    }
   ],
   "source": [
    "!wget  -O data/img0.JPG \"https://d17fnq9dkz9hgj.cloudfront.net/breed-uploads/2018/08/siberian-husky-detail.jpg?bust=1535566590&width=630\"\n",
    "!wget  -O data/img1.JPG \"https://www.hakaimagazine.com/wp-content/uploads/header-gulf-birds.jpg\"\n",
    "!wget  -O data/img2.JPG \"https://www.artis.nl/media/filer_public_thumbnails/filer_public/00/f1/00f1b6db-fbed-4fef-9ab0-84e944ff11f8/chimpansee_amber_r_1920x1080.jpg__1920x1080_q85_subject_location-923%2C365_subsampling-2.jpg\"\n",
    "!wget  -O data/img3.JPG \"https://www.familyhandyman.com/wp-content/uploads/2018/09/How-to-Avoid-Snakes-Slithering-Up-Your-Toilet-shutterstock_780480850.jpg\""
   ]
  },
  {
   "cell_type": "markdown",
   "id": "350dbcc0-ac70-49cf-80c9-e64722d87626",
   "metadata": {},
   "source": [
    "# 3. Define Variables\n",
    "\n",
    "- 모델을 이미 다운로드 / convert 했다는 가정하에 코드 작성\n",
    "- `tftft_model_path` 에는 convert 한 frozen graph 경로 값 할당 (디렉토리 경로)\n",
    "    - import model from `tftrt_model_path/frozen_graph.pb`\n",
    "- `tflite_model_path` 에는 컴파일 된 tflite_model 경로를 할당 (파일 경로) \n",
    "    - import model from `tflite_model_path`\n",
    "        - `tflite_model_path` example: `tflite_model/resnet50_edgetpu.tflite`\n"
   ]
  },
  {
   "cell_type": "code",
   "execution_count": 12,
   "id": "3866bf8c-f594-4747-b618-17a77cd164c2",
   "metadata": {},
   "outputs": [],
   "source": [
    "cur_path = os.getcwd()\n",
    "\n",
    "tftrt_model_path = os.path.join(cur_path, 'tftrt_model')\n",
    "tflite_model_path = os.path.join(cur_path, 'tflite_model', 'resnet50_edgetpu.tflite')"
   ]
  },
  {
   "cell_type": "code",
   "execution_count": 5,
   "id": "d9931128-4465-4d90-9a7f-dedcaa57e783",
   "metadata": {},
   "outputs": [
    {
     "name": "stdout",
     "output_type": "stream",
     "text": [
      "/home/keti/workspace/tf_2.5.0/src/2. download model from mobius/tftrt_model\n"
     ]
    }
   ],
   "source": [
    "print(tftrt_model_path)"
   ]
  },
  {
   "cell_type": "markdown",
   "id": "d40ecd24-2a32-4b14-9096-44738e2d4874",
   "metadata": {},
   "source": [
    "# 4. Define Functions"
   ]
  },
  {
   "cell_type": "code",
   "execution_count": 6,
   "id": "f3c76cb0-ac64-43fd-9fcb-caf91fad0cc8",
   "metadata": {},
   "outputs": [],
   "source": [
    "def load_frozen_graph(input_path):\n",
    "    \n",
    "    def wrap_frozen_graph(graph_def, inputs, outputs, print_graph=False):\n",
    "        def _imports_graph_def():\n",
    "            tf.compat.v1.import_graph_def(graph_def, name=\"\")\n",
    "\n",
    "        wrapped_import = tf.compat.v1.wrap_function(_imports_graph_def, [])\n",
    "        import_graph = wrapped_import.graph\n",
    "\n",
    "        if print_graph == True:\n",
    "            print(\"-\" * 50)\n",
    "            print(\"Frozen model layers: \")\n",
    "            layers = [op.name for op in import_graph.get_operations()]\n",
    "            for layer in layers:\n",
    "                print(layer)\n",
    "            print(\"-\" * 50)\n",
    "\n",
    "        return wrapped_import.prune(\n",
    "            tf.nest.map_structure(import_graph.as_graph_element, inputs),\n",
    "            tf.nest.map_structure(import_graph.as_graph_element, outputs))\n",
    "\n",
    "    # Load frozen graph using TensorFlow 1.x functions\n",
    "    with tf.io.gfile.GFile(f'{input_path}/frozen_graph.pb', 'rb') as f:\n",
    "        graph_def = tf.compat.v1.GraphDef()\n",
    "        loaded = graph_def.ParseFromString(f.read())\n",
    "\n",
    "    # Wrap frozen graph to ConcreteFunctions\n",
    "    frozen_func = wrap_frozen_graph(graph_def=graph_def,\n",
    "                                    inputs=[\"x:0\"],\n",
    "                                    outputs=[\"Identity:0\"],\n",
    "                                    print_graph=False)\n",
    "    \n",
    "    return frozen_func"
   ]
  },
  {
   "cell_type": "code",
   "execution_count": 28,
   "id": "a26a789d-ec1c-46d4-8520-8641452a3cc8",
   "metadata": {},
   "outputs": [],
   "source": [
    "\"\"\"\n",
    "    tf-trt 모델을 load 할 것이라면 type=tf_trt\n",
    "    tflite 모델을 load 할 것이라면 type=tf_lite 로 함수 호출\n",
    "\"\"\"\n",
    "\n",
    "def load_model(type, input_path):\n",
    "    if(type == 'tf_trt'):\n",
    "        print('start load tf-trt model...')\n",
    "        loaded_model = load_frozen_graph(input_path)\n",
    "        \n",
    "    elif(type == 'tf_lite'):\n",
    "        print('start load tflite model...')\n",
    "        loaded_model = tflite.Interpreter(input_path, \n",
    "                          experimental_delegates=[tflite.load_delegate('libedgetpu.so.1')])\n",
    "        loaded_model.allocate_tensors()\n",
    "    return loaded_model"
   ]
  },
  {
   "cell_type": "code",
   "execution_count": 8,
   "id": "03f868ae-3a60-41fe-b5ec-054c446a7edc",
   "metadata": {},
   "outputs": [],
   "source": [
    "def predict(input_model, input_data):\n",
    "    if(str(type(input_model)) == \"<class 'tensorflow.python.eager.wrap_function.WrappedFunction'>\"):\n",
    "        # model type: trt frozen graph\n",
    "        prediction = input_model(input_data)\n",
    "        prediction = prediction[0].numpy()\n",
    "        # return decode_predictions(preds, top=3)[0][0][1]\n",
    "        \n",
    "    elif(str(type(input_model)) == \"<class 'tflite_runtime.interpreter.Interpreter'>\"):\n",
    "        # model type: tflite model\n",
    "        input_details = input_model.get_input_details()\n",
    "        output_details = input_model.get_output_details()\n",
    "\n",
    "        input_data = np.array(input_data, dtype=np.uint8)\n",
    "        input_model.set_tensor(input_details[0]['index'], input_data) # set input data to interpreter\n",
    "        input_model.invoke()    # 추론\n",
    "        prediction = input_model.get_tensor(output_details[0]['index']) # get output\n",
    "\n",
    "    else:\n",
    "        print('invalid input model')\n",
    "        return -1;\n",
    "    \n",
    "    return prediction"
   ]
  },
  {
   "cell_type": "markdown",
   "id": "0216b354-2e70-4b77-9fac-50128dd661ca",
   "metadata": {},
   "source": [
    "# Test"
   ]
  },
  {
   "cell_type": "code",
   "execution_count": 9,
   "id": "cb6f23e0-fc6c-4224-919b-6f9999e8b12a",
   "metadata": {},
   "outputs": [],
   "source": [
    "# Test the model on random input data.\n",
    "img_path = 'data/img0.JPG'  # Siberian_husky\n",
    "img = image.load_img(img_path, target_size=(224, 224))\n",
    "x = image.img_to_array(img)\n",
    "x = np.expand_dims(x, axis=0)\n",
    "x = preprocess_input(x)\n",
    "x = tf.constant(x)"
   ]
  },
  {
   "cell_type": "markdown",
   "id": "3d74b6f8-988f-40be-a128-043b57df311c",
   "metadata": {},
   "source": [
    "### inference test: tf-trt model"
   ]
  },
  {
   "cell_type": "code",
   "execution_count": 16,
   "id": "b365acf3-d4db-4aa8-9d38-3712ea31ff6b",
   "metadata": {},
   "outputs": [
    {
     "data": {
      "text/plain": [
       "'/home/keti/workspace/tf_2.5.0/src/2. download model from mobius/tftrt_model'"
      ]
     },
     "execution_count": 16,
     "metadata": {},
     "output_type": "execute_result"
    }
   ],
   "source": [
    "tftrt_model_path"
   ]
  },
  {
   "cell_type": "code",
   "execution_count": 21,
   "id": "d494cccf-cdcb-423b-af4b-a480f3946394",
   "metadata": {},
   "outputs": [
    {
     "name": "stdout",
     "output_type": "stream",
     "text": [
      "start load tf-trt model...\n"
     ]
    }
   ],
   "source": [
    "tftrt_loaded_model = load_model(type='tf_trt', input_path=tftrt_model_path)"
   ]
  },
  {
   "cell_type": "code",
   "execution_count": 22,
   "id": "7852c21d-4df9-4a29-97f1-871625c67c40",
   "metadata": {},
   "outputs": [],
   "source": [
    "preds = predict(input_model=tftrt_loaded_model, input_data=x)"
   ]
  },
  {
   "cell_type": "code",
   "execution_count": 24,
   "id": "5a1b73c2-3fac-4fd7-9412-b49d7fa8b6c7",
   "metadata": {},
   "outputs": [
    {
     "data": {
      "text/plain": [
       "'Siberian_husky'"
      ]
     },
     "execution_count": 24,
     "metadata": {},
     "output_type": "execute_result"
    }
   ],
   "source": [
    "# 상위 5까지 출력, 모델에 따라 decode_predict import 변경 필요\n",
    "decode_predictions(preds, top=5)[0][0][1]   # 최상위 클래스 출력"
   ]
  },
  {
   "cell_type": "markdown",
   "id": "760590f1-1a44-452a-8b43-22c56294314e",
   "metadata": {},
   "source": [
    "### inference test: tflite model"
   ]
  },
  {
   "cell_type": "code",
   "execution_count": 17,
   "id": "285774e9-ee35-4a00-b7fb-0d354bbf78f8",
   "metadata": {},
   "outputs": [
    {
     "name": "stdout",
     "output_type": "stream",
     "text": [
      "start load tflite model...\n"
     ]
    }
   ],
   "source": [
    "tflite_loaded_model = load_model(type='tf_lite', input_path=tflite_model_path)"
   ]
  },
  {
   "cell_type": "code",
   "execution_count": 18,
   "id": "905b62aa-5ea9-417f-b11f-5c1f7a7e64c3",
   "metadata": {},
   "outputs": [],
   "source": [
    "preds = predict(input_model=tflite_loaded_model, input_data=x)"
   ]
  },
  {
   "cell_type": "code",
   "execution_count": 19,
   "id": "deb720eb-3050-4fe3-ae6d-ed909b1e1ea2",
   "metadata": {},
   "outputs": [
    {
     "data": {
      "text/plain": [
       "'nematode'"
      ]
     },
     "execution_count": 19,
     "metadata": {},
     "output_type": "execute_result"
    }
   ],
   "source": [
    "# 상위 5까지 출력, 모델에 따라 decode_predict import 변경 필요\n",
    "decode_predictions(preds, top=5)[0][0][1]   # 최상위 클래스 출력"
   ]
  },
  {
   "cell_type": "code",
   "execution_count": null,
   "id": "701a87a8-80d4-4b56-8fd6-645133347e98",
   "metadata": {},
   "outputs": [],
   "source": []
  }
 ],
 "metadata": {
  "kernelspec": {
   "display_name": "tf_2.5.0",
   "language": "python",
   "name": "tf_2.5.0"
  },
  "language_info": {
   "codemirror_mode": {
    "name": "ipython",
    "version": 3
   },
   "file_extension": ".py",
   "mimetype": "text/x-python",
   "name": "python",
   "nbconvert_exporter": "python",
   "pygments_lexer": "ipython3",
   "version": "3.6.9"
  }
 },
 "nbformat": 4,
 "nbformat_minor": 5
}
