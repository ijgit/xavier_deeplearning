{
 "cells": [
  {
   "cell_type": "markdown",
   "id": "0fa05673-ff8c-4fc4-b32c-6e793b2153f1",
   "metadata": {},
   "source": [
    "# upload model file\n",
    "\n",
    "mongodb 서버에 local 에 있는 model 파일을 업로드한다.\n",
    "\n",
    "> 다운로드 전, mongodb 서버가 구동중인지 확인해야 한다 "
   ]
  },
  {
   "cell_type": "code",
   "execution_count": 1,
   "id": "bd518f2b-9376-40fd-a122-40af9e1ce483",
   "metadata": {
    "execution": {
     "iopub.execute_input": "2022-01-03T07:32:29.987647Z",
     "iopub.status.busy": "2022-01-03T07:32:29.987238Z",
     "iopub.status.idle": "2022-01-03T07:32:30.126607Z",
     "shell.execute_reply": "2022-01-03T07:32:30.123974Z",
     "shell.execute_reply.started": "2022-01-03T07:32:29.987598Z"
    },
    "tags": []
   },
   "outputs": [],
   "source": [
    "import requests\n",
    "\n",
    "url = \"http://192.168.50.157:3000/models/upload\"\n",
    "file_name = 'frozen_graph.pb'"
   ]
  },
  {
   "cell_type": "code",
   "execution_count": 2,
   "id": "d3f92c5c-81f7-4a8f-a3e0-d1fb70cbb023",
   "metadata": {
    "execution": {
     "iopub.execute_input": "2022-01-03T07:32:30.889636Z",
     "iopub.status.busy": "2022-01-03T07:32:30.888784Z",
     "iopub.status.idle": "2022-01-03T07:32:36.025959Z",
     "shell.execute_reply": "2022-01-03T07:32:36.023744Z",
     "shell.execute_reply.started": "2022-01-03T07:32:30.889563Z"
    },
    "tags": []
   },
   "outputs": [
    {
     "data": {
      "text/plain": [
       "'{\"message\":\"File uploaded successfully, download link: http://192.168.50.157:3000/models/download?cnt=model&id=61d2a69363daa0519def6b47&filename=frozen_graph.pb\"}'"
      ]
     },
     "execution_count": 2,
     "metadata": {},
     "output_type": "execute_result"
    }
   ],
   "source": [
    "payload={\n",
    "    'cnt': 'model', \n",
    "    'ae': 'jeong',\n",
    "    'filename': file_name\n",
    "}\n",
    "\n",
    "files=[\n",
    "  ('file',(file_name, open(f'./{file_name}','rb'),'application/octet-stream'))\n",
    "]\n",
    "headers = {}\n",
    "\n",
    "response = requests.post(url, headers=headers, data=payload, files=files)\n",
    "response.text"
   ]
  },
  {
   "cell_type": "code",
   "execution_count": null,
   "id": "9cfa1180-81f5-421d-9893-d8d69cea76a3",
   "metadata": {},
   "outputs": [],
   "source": []
  }
 ],
 "metadata": {
  "kernelspec": {
   "display_name": "xavier",
   "language": "python",
   "name": "vnev"
  },
  "language_info": {
   "codemirror_mode": {
    "name": "ipython",
    "version": 3
   },
   "file_extension": ".py",
   "mimetype": "text/x-python",
   "name": "python",
   "nbconvert_exporter": "python",
   "pygments_lexer": "ipython3",
   "version": "3.6.9"
  }
 },
 "nbformat": 4,
 "nbformat_minor": 5
}
