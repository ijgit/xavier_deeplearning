{
 "cells": [
  {
   "cell_type": "markdown",
   "id": "c0902238-11d5-4ea1-8b44-da79ec760940",
   "metadata": {},
   "source": [
    "# download model file from mobius\n",
    "\n",
    "cnt 에 올라온 가장 최신 cin 을 조회하여, 해당 값을 기반으로 model 을 다운로드 한다.\n",
    "\n",
    "> 다운로드 전, mongodb 서버가 구동중인지 확인해야 한다 "
   ]
  },
  {
   "cell_type": "code",
   "execution_count": 1,
   "id": "bf3e81ac-3570-4fd2-bc4f-25ae61613098",
   "metadata": {
    "execution": {
     "iopub.execute_input": "2022-01-03T07:32:47.115713Z",
     "iopub.status.busy": "2022-01-03T07:32:47.115272Z",
     "iopub.status.idle": "2022-01-03T07:32:47.246305Z",
     "shell.execute_reply": "2022-01-03T07:32:47.244872Z",
     "shell.execute_reply.started": "2022-01-03T07:32:47.115662Z"
    },
    "tags": []
   },
   "outputs": [],
   "source": [
    "import requests\n",
    "\n",
    "ip = '203.253.128.161' #'172.17.237.189' #\"192.168.50.157\"\n",
    "port = '7579'\n",
    "cse = 'Mobius'\n",
    "ae = 'jeong'\n",
    "cnt = 'model'\n",
    "url = f'http://{ip}:{port}/{cse}/{ae}/{cnt}/la'\n",
    "headers = {\n",
    "  'Accept': 'application/json',\n",
    "  'X-M2M-RI': '12345',\n",
    "  'X-M2M-Origin': 'SOrigin',\n",
    "  'Content-Type': 'application/vnd.onem2m-res+json; ty=4'\n",
    "}"
   ]
  },
  {
   "cell_type": "code",
   "execution_count": 2,
   "id": "51023a9e-26a5-46eb-bd53-0cbab76f61b0",
   "metadata": {
    "execution": {
     "iopub.execute_input": "2022-01-03T07:32:47.992886Z",
     "iopub.status.busy": "2022-01-03T07:32:47.990408Z",
     "iopub.status.idle": "2022-01-03T07:32:48.011149Z",
     "shell.execute_reply": "2022-01-03T07:32:48.009252Z",
     "shell.execute_reply.started": "2022-01-03T07:32:47.992739Z"
    },
    "tags": []
   },
   "outputs": [],
   "source": [
    "def getCinRequest():\n",
    "    payload = {}\n",
    "    response = requests.get(url, headers=headers, data=payload)\n",
    "    return response\n",
    "\n",
    "def download_from_url(file_url, file_path):\n",
    "    res = requests.get(file_url, stream=True)\n",
    "    # res.headers['content-length']\n",
    "    with open(file_path, 'wb') as f:\n",
    "        for chunk in res.iter_content(chunk_size=64*2048):\n",
    "            if chunk:\n",
    "                f.write(chunk)"
   ]
  },
  {
   "cell_type": "code",
   "execution_count": 3,
   "id": "c35b77b9-54b8-469f-a4c2-699ee51e48e5",
   "metadata": {
    "execution": {
     "iopub.execute_input": "2022-01-03T07:32:48.912776Z",
     "iopub.status.busy": "2022-01-03T07:32:48.911591Z",
     "iopub.status.idle": "2022-01-03T07:32:48.966811Z",
     "shell.execute_reply": "2022-01-03T07:32:48.965177Z",
     "shell.execute_reply.started": "2022-01-03T07:32:48.912651Z"
    },
    "tags": []
   },
   "outputs": [
    {
     "data": {
      "text/plain": [
       "{'id': '61d2a69363daa0519def6b47',\n",
       " 'url': 'http://192.168.50.157:3000/models/download?cnt=model&id=61d2a69363daa0519def6b47&filename=frozen_graph.pb',\n",
       " 'filename': 'frozen_graph.pb'}"
      ]
     },
     "execution_count": 3,
     "metadata": {},
     "output_type": "execute_result"
    }
   ],
   "source": [
    "container = getCinRequest()\n",
    "container = container.json()['m2m:cin'][\"con\"]\n",
    "\n",
    "container"
   ]
  },
  {
   "cell_type": "code",
   "execution_count": 4,
   "id": "c3140c5e-833b-41f2-a82a-f714e690c110",
   "metadata": {
    "execution": {
     "iopub.execute_input": "2022-01-03T07:32:50.449053Z",
     "iopub.status.busy": "2022-01-03T07:32:50.447935Z",
     "iopub.status.idle": "2022-01-03T07:32:50.462589Z",
     "shell.execute_reply": "2022-01-03T07:32:50.459554Z",
     "shell.execute_reply.started": "2022-01-03T07:32:50.448945Z"
    },
    "tags": []
   },
   "outputs": [],
   "source": [
    "file_url = container['url']\n",
    "file_name = container['filename']"
   ]
  },
  {
   "cell_type": "code",
   "execution_count": 5,
   "id": "3fd10876-769e-46f2-9a61-a8556c6d39ba",
   "metadata": {
    "execution": {
     "iopub.execute_input": "2022-01-03T07:32:51.370000Z",
     "iopub.status.busy": "2022-01-03T07:32:51.369159Z",
     "iopub.status.idle": "2022-01-03T07:32:53.609701Z",
     "shell.execute_reply": "2022-01-03T07:32:53.608373Z",
     "shell.execute_reply.started": "2022-01-03T07:32:51.369918Z"
    },
    "tags": []
   },
   "outputs": [],
   "source": [
    "download_from_url(file_url=file_url, file_path=file_name)"
   ]
  },
  {
   "cell_type": "code",
   "execution_count": null,
   "id": "f12e2e1e-d38c-4b1f-b47a-b30aff4cc999",
   "metadata": {},
   "outputs": [],
   "source": []
  }
 ],
 "metadata": {
  "kernelspec": {
   "display_name": "xavier",
   "language": "python",
   "name": "vnev"
  },
  "language_info": {
   "codemirror_mode": {
    "name": "ipython",
    "version": 3
   },
   "file_extension": ".py",
   "mimetype": "text/x-python",
   "name": "python",
   "nbconvert_exporter": "python",
   "pygments_lexer": "ipython3",
   "version": "3.6.9"
  }
 },
 "nbformat": 4,
 "nbformat_minor": 5
}
