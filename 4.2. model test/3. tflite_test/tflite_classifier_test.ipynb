{
 "cells": [
  {
   "cell_type": "markdown",
   "id": "83e26be3-4f80-4213-b01b-25be7d7368ea",
   "metadata": {
    "tags": []
   },
   "source": [
    "# Import Libraries"
   ]
  },
  {
   "cell_type": "code",
   "execution_count": 1,
   "id": "00b867ab-41ff-4a4f-8d8b-0f8774b795e5",
   "metadata": {
    "tags": []
   },
   "outputs": [],
   "source": [
    "import tensorflow as tf\n",
    "assert float(tf.__version__[:3]) >= 2.3\n",
    "\n",
    "import os\n",
    "import numpy as np\n",
    "import glob\n",
    "import time\n",
    "import matplotlib.pyplot as plt\n",
    "import time\n",
    "from tensorflow.keras.preprocessing import image\n",
    "\n",
    "# from tensorflow.keras.applications.resnet50 import ResNet50, preprocess_input, decode_predictions"
   ]
  },
  {
   "cell_type": "markdown",
   "id": "f923d3b4-1744-4eea-ac5c-4076b16078b5",
   "metadata": {},
   "source": [
    "# Load dataset"
   ]
  },
  {
   "cell_type": "code",
   "execution_count": 2,
   "id": "ed0343d6-f71f-4189-bf33-e97f770d0268",
   "metadata": {},
   "outputs": [
    {
     "data": {
      "text/plain": [
       "60"
      ]
     },
     "execution_count": 2,
     "metadata": {},
     "output_type": "execute_result"
    }
   ],
   "source": [
    "class_names = ['construction_danger', 'construction_safe', 'park_danger', 'park_safe', 'road_danger', 'road_safe']\n",
    "label_list = []\n",
    "image_list = []\n",
    "dataset_list = []\n",
    "\n",
    "for label in class_names:\n",
    "    img_path_list = glob.glob(f'../Test_data/{label}/*')\n",
    "    \n",
    "    for i in range(len(img_path_list)):\n",
    "        image = tf.io.read_file(img_path_list[i])\n",
    "        image = tf.io.decode_jpeg(image, channels=3)\n",
    "        image = tf.image.resize(image, [224, 224])\n",
    "        # dataset_list.append(tf.expand_dims(image, 0))\n",
    "        dataset_list.append(tf.dtypes.cast(tf.expand_dims(image, 0), tf.uint8))\n",
    "        # _image = tf.expand_dims(image, axis=0)\n",
    "        # _image = tf.dtypes.cast(_image, tf.uint8)\n",
    "        # _image = np.array(_image, dtype=np.uint8)\n",
    "        # dataset_list.append(_image)\n",
    "        image_list.append(image)\n",
    "        label_list.append(label)\n",
    "        \n",
    "len(image_list)"
   ]
  },
  {
   "cell_type": "markdown",
   "id": "47b5f960-d53f-45e4-999a-c8ce20eaed35",
   "metadata": {
    "tags": []
   },
   "source": [
    "# compiled model test"
   ]
  },
  {
   "cell_type": "code",
   "execution_count": 3,
   "id": "363a8082-872c-4368-a635-40a3d1f3361f",
   "metadata": {},
   "outputs": [],
   "source": [
    "import tflite_runtime.interpreter as tflite\n",
    "\n",
    "class Saved_model_test:\n",
    "    def __init__(self, saved_model_dir, class_names):\n",
    "        self.saved_model_dir = saved_model_dir\n",
    "        \n",
    "        start_time = time.time()\n",
    "        interpreter = tflite.Interpreter('custom_saved_model_edgetpu.tflite' , \n",
    "                          experimental_delegates=[tflite.load_delegate('libedgetpu.so.1')])\n",
    "        end_time = time.time()\n",
    "        self.interpreter = interpreter\n",
    "        self.interpreter.allocate_tensors()\n",
    "        term = end_time - start_time\n",
    "        self.loading_term = term\n",
    "        \n",
    "        self.input_details = interpreter.get_input_details()\n",
    "        self.output_details = interpreter.get_output_details()\n",
    "        \n",
    "        self.class_names = class_names\n",
    "\n",
    "        self.saved_model_infer = {}\n",
    "        self.infer_result = []\n",
    "    \n",
    "    def check_speed(self, input):\n",
    "        N_warmup_run = 50\n",
    "        N_run = 20\n",
    "        elapsed_time = []\n",
    "        \n",
    "        for i in range(N_warmup_run):\n",
    "            self.interpreter.set_tensor(self.input_details[0]['index'], input)\n",
    "            self.interpreter.invoke()\n",
    "        \n",
    "        for i in range(N_run):\n",
    "            start_time = time.time()\n",
    "            for j in range(N_warmup_run):\n",
    "                self.interpreter.set_tensor(self.input_details[0]['index'], input)\n",
    "                self.interpreter.invoke()\n",
    "            end_time = time.time()\n",
    "            elapsed_time = np.append(elapsed_time, end_time - start_time)\n",
    "        self.elapsed_time = elapsed_time\n",
    "        \n",
    "        total = 0\n",
    "        for i in range(N_run):\n",
    "            total += elapsed_time[i]\n",
    "        # total /= len(elapsed_time)\n",
    "        self.speed = (N_run * N_warmup_run)/total\n",
    "        \n",
    "    \n",
    "    def test(self, dataset_list, label_list):\n",
    "        \n",
    "        result_list = []\n",
    "        for i in range(len(dataset_list)):\n",
    "            self.interpreter.set_tensor(self.input_details[0]['index'], dataset_list[i])\n",
    "            self.interpreter.invoke()\n",
    "            preds = self.interpreter.get_tensor(self.output_details[0]['index'])\n",
    "            result_list.append([label_list[i], self.class_names[np.argmax(preds[0], axis=0)],  preds])\n",
    "        \n",
    "        self.result_list = result_list\n",
    "        \n",
    "    def calc_accuracy(self):\n",
    "        self.accuracy = {}\n",
    "        \n",
    "        c = np.array(self.result_list)\n",
    "        for label in self.class_names:\n",
    "            first_idx = np.where(c[0:, 0:1] == label)[0][0]\n",
    "            last_idx = np.where(c[0:, 0:1] == label)[0][-1]\n",
    "\n",
    "            label_len = len(np.where(c[first_idx:last_idx+1, 0:1] == label)[0])\n",
    "            correct = len(np.where(c[first_idx:last_idx+1:, 1:2] == label)[0])\n",
    "            self.accuracy[label] = correct/label_len"
   ]
  },
  {
   "cell_type": "code",
   "execution_count": 4,
   "id": "17c627bb-caa5-41d4-9d04-f334ab846b36",
   "metadata": {},
   "outputs": [],
   "source": [
    "def test(input, class_names):\n",
    "    model_test = Saved_model_test(input, class_names)\n",
    "    print(f'loading term (sec): {model_test.loading_term}')\n",
    "    \n",
    "    model_test.check_speed(dataset_list[0])\n",
    "    print(f'images per sec: {model_test.speed}')\n",
    "\n",
    "    model_test.test(dataset_list, label_list)\n",
    "    model_test.calc_accuracy()\n",
    "    print('accuracy: ')\n",
    "    print(model_test.accuracy)"
   ]
  },
  {
   "cell_type": "markdown",
   "id": "f761d836-394c-4a87-98fd-a11f9cc7ab7e",
   "metadata": {
    "tags": []
   },
   "source": [
    "## custom_saved_model_edgetpu"
   ]
  },
  {
   "cell_type": "code",
   "execution_count": 5,
   "id": "e8557ddd-5c4b-4230-840e-7178b6a6bffd",
   "metadata": {},
   "outputs": [
    {
     "name": "stdout",
     "output_type": "stream",
     "text": [
      "loading term (sec): 2.6942975521087646\n",
      "images per sec: 188.44121394969542\n",
      "accuracy: \n",
      "{'construction_danger': 0.0, 'construction_safe': 0.0, 'park_danger': 0.0, 'park_safe': 0.0, 'road_danger': 0.0, 'road_safe': 1.0}\n"
     ]
    },
    {
     "name": "stderr",
     "output_type": "stream",
     "text": [
      "/home/keti/tf_2.5.0/lib/python3.6/site-packages/ipykernel_launcher.py:63: VisibleDeprecationWarning: Creating an ndarray from ragged nested sequences (which is a list-or-tuple of lists-or-tuples-or ndarrays with different lengths or shapes) is deprecated. If you meant to do this, you must specify 'dtype=object' when creating the ndarray\n"
     ]
    }
   ],
   "source": [
    "test('custom_saved_model_edgetpu.tflite', class_names)"
   ]
  },
  {
   "cell_type": "markdown",
   "id": "0a1407bd-2033-4d7f-821d-09621af98b52",
   "metadata": {
    "tags": []
   },
   "source": [
    "## custom_resnet_saved_model_edgetpu"
   ]
  },
  {
   "cell_type": "code",
   "execution_count": 8,
   "id": "36134a2f-f78d-4f45-a2bb-a79ab80af9aa",
   "metadata": {},
   "outputs": [
    {
     "name": "stdout",
     "output_type": "stream",
     "text": [
      "loading term (sec): 0.0021169185638427734\n",
      "images per sec: 189.95065399835036\n",
      "accuracy: \n",
      "{'construction_danger': 0.0, 'construction_safe': 0.0, 'park_danger': 0.0, 'park_safe': 0.0, 'road_danger': 0.0, 'road_safe': 1.0}\n"
     ]
    },
    {
     "name": "stderr",
     "output_type": "stream",
     "text": [
      "/home/keti/tf_2.5.0/lib/python3.6/site-packages/ipykernel_launcher.py:63: VisibleDeprecationWarning: Creating an ndarray from ragged nested sequences (which is a list-or-tuple of lists-or-tuples-or ndarrays with different lengths or shapes) is deprecated. If you meant to do this, you must specify 'dtype=object' when creating the ndarray\n"
     ]
    }
   ],
   "source": [
    "test('custom_resnet_saved_model_edgetpu', class_names)"
   ]
  },
  {
   "cell_type": "markdown",
   "id": "844e75e4-b533-45a6-a0e3-e467a82482ca",
   "metadata": {},
   "source": [
    "## custom_mobilenetv2_saved_model_edgetpu"
   ]
  },
  {
   "cell_type": "code",
   "execution_count": 9,
   "id": "4f1d9af2-399f-408f-8e94-44b887aeb9b4",
   "metadata": {},
   "outputs": [
    {
     "name": "stdout",
     "output_type": "stream",
     "text": [
      "loading term (sec): 0.0011734962463378906\n",
      "images per sec: 191.13843626551133\n",
      "accuracy: \n",
      "{'construction_danger': 0.0, 'construction_safe': 0.0, 'park_danger': 0.0, 'park_safe': 0.0, 'road_danger': 0.0, 'road_safe': 1.0}\n"
     ]
    },
    {
     "name": "stderr",
     "output_type": "stream",
     "text": [
      "/home/keti/tf_2.5.0/lib/python3.6/site-packages/ipykernel_launcher.py:63: VisibleDeprecationWarning: Creating an ndarray from ragged nested sequences (which is a list-or-tuple of lists-or-tuples-or ndarrays with different lengths or shapes) is deprecated. If you meant to do this, you must specify 'dtype=object' when creating the ndarray\n"
     ]
    }
   ],
   "source": [
    "test('custom_mobilenetv2_saved_model_edgetpu', class_names)"
   ]
  }
 ],
 "metadata": {
  "kernelspec": {
   "display_name": "tf_2.5.0",
   "language": "python",
   "name": "tf_2.5.0"
  },
  "language_info": {
   "codemirror_mode": {
    "name": "ipython",
    "version": 3
   },
   "file_extension": ".py",
   "mimetype": "text/x-python",
   "name": "python",
   "nbconvert_exporter": "python",
   "pygments_lexer": "ipython3",
   "version": "3.6.9"
  }
 },
 "nbformat": 4,
 "nbformat_minor": 5
}
