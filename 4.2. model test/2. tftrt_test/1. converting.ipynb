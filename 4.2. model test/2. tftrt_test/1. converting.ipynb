{
 "cells": [
  {
   "cell_type": "markdown",
   "id": "0fe95c70-641c-4a42-8274-92fccba69853",
   "metadata": {},
   "source": [
    "# Import Libraries"
   ]
  },
  {
   "cell_type": "code",
   "execution_count": 1,
   "id": "20b553fa-fc5c-42d0-ab30-615329256863",
   "metadata": {},
   "outputs": [],
   "source": [
    "from __future__ import absolute_import, division, print_function, unicode_literals\n",
    "import os\n",
    "import time\n",
    "\n",
    "import numpy as np\n",
    "import matplotlib.pyplot as plt\n",
    "\n",
    "import tensorflow as tf\n",
    "from tensorflow import keras\n",
    "from tensorflow.python.compiler.tensorrt import trt_convert as trt\n",
    "from tensorflow.python.saved_model import tag_constants\n",
    "from tensorflow.python.framework import convert_to_constants\n",
    "from tensorflow.keras.preprocessing import image"
   ]
  },
  {
   "cell_type": "markdown",
   "id": "3890fcd5-05ee-440b-9558-08fa806fa644",
   "metadata": {},
   "source": [
    "# Define"
   ]
  },
  {
   "cell_type": "code",
   "execution_count": 2,
   "id": "616854be-1518-4aa8-a15e-4a4a19be307c",
   "metadata": {},
   "outputs": [],
   "source": [
    "def get_dummy_images(batch_size = 32, img_shape = [224, 224, 3]):\n",
    "    img=tf.random.uniform(shape=[batch_size] + img_shape, dtype=tf.float32)\n",
    "    print(\"Generated input random images with shape (N, H, W, C) =\", img.shape)\n",
    "    return img"
   ]
  },
  {
   "cell_type": "markdown",
   "id": "7692b1e8-5729-4ec2-8cd7-fb691f072044",
   "metadata": {
    "tags": []
   },
   "source": [
    "# converting\n",
    "\n",
    "- reference: https://docs.nvidia.com/deeplearning/frameworks/tf-trt-user-guide/index.html\n",
    "\n",
    "\n",
    "-----\n",
    "\n",
    "\n",
    "TF-TRT 는 Tensorflow 에서 생성된 saved model 을 사용하여 TensorRT 에 최적화된 saved model 을 생성한다. \n",
    "- `f32_trt_convert` 함수는 모델을 float32 정밀도로 변환한다.\n",
    "- `f16_trt_convert` 함수는 모델을 float32 정밀도로 변환한다.\n",
    "- `int8_trt_convert` 함수는 모델을 float32 정밀도로 변환한다. "
   ]
  },
  {
   "cell_type": "code",
   "execution_count": 3,
   "id": "79e4c0bf-8deb-4581-945c-6c760fad4860",
   "metadata": {},
   "outputs": [],
   "source": [
    "def f32_trt_convert(input_path, output_path, input_shapes, explicit_batch=False):\n",
    "    conv_params=trt.TrtConversionParams(\n",
    "        precision_mode=trt.TrtPrecisionMode.FP32)\n",
    "    \n",
    "    converter = trt.TrtGraphConverterV2(\n",
    "        input_saved_model_dir=input_path, \n",
    "        conversion_params=conv_params,\n",
    "        use_dynamic_shape=explicit_batch,\n",
    "        dynamic_shape_profile_strategy='Optimal')\n",
    "\n",
    "    converter.convert()\n",
    "    \n",
    "    def input_fn():\n",
    "        for shapes in input_shapes:\n",
    "            # return a list of input tensors\n",
    "            yield [np.ones(shape=x).astype(np.float32) for x in shapes]\n",
    "\n",
    "    converter.build(input_fn)\n",
    "    converter.save(output_path)"
   ]
  },
  {
   "cell_type": "code",
   "execution_count": 4,
   "id": "5afe51ea-8eab-4f20-8af5-eca09a163058",
   "metadata": {},
   "outputs": [],
   "source": [
    "def f16_trt_convert(input_path, output_path, input_shapes, explicit_batch=False):\n",
    "    \n",
    "    conv_params = trt.TrtConversionParams(\n",
    "        precision_mode=trt.TrtPrecisionMode.FP16)\n",
    "    \n",
    "    converter = trt.TrtGraphConverterV2(\n",
    "       input_saved_model_dir = input_path, \n",
    "        conversion_params = conv_params)\n",
    "\n",
    "    # def input_fn():\n",
    "    #     for shapes in input_shapes:\n",
    "    #         # return a list of input tensors\n",
    "    #         yield [np.ones(shape=x).astype(np.float32) for x in shapes]\n",
    "\n",
    "    converter.convert()\n",
    "    \n",
    "    # converter.build(input_fn)\n",
    "    converter.save(output_path)"
   ]
  },
  {
   "cell_type": "code",
   "execution_count": 5,
   "id": "c25cd494-e5e4-46a0-8e7e-8d758bad90cd",
   "metadata": {},
   "outputs": [],
   "source": [
    "def int8_trt_convert(input_path, output_path, input_shapes, explicit_batch=False):\n",
    "    conv_params=trt.TrtConversionParams(\n",
    "        precision_mode=trt.TrtPrecisionMode.INT8,\n",
    "        use_calibration=False)\n",
    "    \n",
    "    converter = trt.TrtGraphConverterV2(\n",
    "        input_saved_model_dir=input_path, \n",
    "        conversion_params=conv_params,\n",
    "        use_dynamic_shape=explicit_batch,\n",
    "        dynamic_shape_profile_strategy='Optimal')\n",
    "\n",
    "    converter.convert()\n",
    "    \n",
    "    def input_fn():\n",
    "        for shapes in input_shapes:\n",
    "            # return a list of input tensors\n",
    "            yield [np.ones(shape=x).astype(np.float32) for x in shapes]\n",
    "\n",
    "    converter.build(input_fn)\n",
    "    converter.save(output_path)"
   ]
  },
  {
   "cell_type": "code",
   "execution_count": 6,
   "id": "9267724d-5807-448d-8575-647366753862",
   "metadata": {},
   "outputs": [
    {
     "name": "stdout",
     "output_type": "stream",
     "text": [
      "Generated input random images with shape (N, H, W, C) = (1, 224, 224, 3)\n"
     ]
    }
   ],
   "source": [
    "input_data =  get_dummy_images(batch_size = 1, img_shape = [224, 224, 3])"
   ]
  },
  {
   "cell_type": "code",
   "execution_count": 7,
   "id": "52362cb6-6592-4df0-a6db-b9b2c6a2df89",
   "metadata": {},
   "outputs": [
    {
     "name": "stdout",
     "output_type": "stream",
     "text": [
      "INFO:tensorflow:Linked TensorRT version: (8, 0, 1)\n",
      "INFO:tensorflow:Loaded TensorRT version: (8, 0, 1)\n",
      "INFO:tensorflow:Assets written to: custom_saved_model_TFTRT_F32/assets\n"
     ]
    }
   ],
   "source": [
    "# measure TF-TRT converting time\n",
    "f32_trt_convert(input_path='../saved_models/custom_saved_model', \n",
    "                 output_path='custom_saved_model_TFTRT_F32', \n",
    "                 input_shapes = [[input_data.shape]],\n",
    "                 explicit_batch=False)"
   ]
  },
  {
   "cell_type": "code",
   "execution_count": 8,
   "id": "9d5ea22b-51db-4b1f-b2a1-e801b98d7c56",
   "metadata": {},
   "outputs": [
    {
     "name": "stdout",
     "output_type": "stream",
     "text": [
      "INFO:tensorflow:Linked TensorRT version: (8, 0, 1)\n",
      "INFO:tensorflow:Loaded TensorRT version: (8, 0, 1)\n",
      "INFO:tensorflow:Assets written to: custom_saved_model_TFTRT_INT8/assets\n"
     ]
    }
   ],
   "source": [
    "# measure TF-TRT converting time\n",
    "int8_trt_convert(input_path='../saved_models/custom_saved_model', \n",
    "                 output_path='custom_saved_model_TFTRT_INT8', \n",
    "                 input_shapes = [[input_data.shape]],\n",
    "                 explicit_batch=False)"
   ]
  },
  {
   "cell_type": "code",
   "execution_count": null,
   "id": "04e9c683-efc8-4fb6-ade5-7529b13e02f3",
   "metadata": {},
   "outputs": [],
   "source": [
    "# measure TF-TRT converting time\n",
    "f32_trt_convert(input_path='../saved_models/custom_resnet_saved_model', \n",
    "                 output_path='custom_resnet_saved_model_TFTRT_F32', \n",
    "                 input_shapes = [[input_data.shape]],\n",
    "                 explicit_batch=False)"
   ]
  },
  {
   "cell_type": "code",
   "execution_count": null,
   "id": "c81cba14-5012-4a8c-9880-379491e42c2f",
   "metadata": {},
   "outputs": [],
   "source": [
    "# measure TF-TRT converting time\n",
    "int8_trt_convert(input_path='../saved_models/custom_resnet_saved_model', \n",
    "                 output_path='custom_resnet_saved_model_TFTRT_INT8', \n",
    "                 input_shapes = [[input_data.shape]],\n",
    "                 explicit_batch=False)"
   ]
  },
  {
   "cell_type": "code",
   "execution_count": 14,
   "id": "8b74da4a-b4da-45ed-9d9f-cb9eee1ac53a",
   "metadata": {},
   "outputs": [
    {
     "name": "stdout",
     "output_type": "stream",
     "text": [
      "INFO:tensorflow:Linked TensorRT version: (8, 0, 1)\n",
      "INFO:tensorflow:Loaded TensorRT version: (8, 0, 1)\n",
      "INFO:tensorflow:Assets written to: custom_mobilenetv2_saved_model_TFTRT_F32/assets\n"
     ]
    }
   ],
   "source": [
    "# measure TF-TRT converting time\n",
    "f32_trt_convert(input_path='../saved_models/custom_mobilenetv2_saved_model', \n",
    "                 output_path='custom_mobilenetv2_saved_model_TFTRT_F32', \n",
    "                 input_shapes = [[input_data.shape]],\n",
    "                 explicit_batch=False)"
   ]
  },
  {
   "cell_type": "code",
   "execution_count": 9,
   "id": "50501725-6b98-4217-8029-d626d179f44d",
   "metadata": {},
   "outputs": [
    {
     "name": "stdout",
     "output_type": "stream",
     "text": [
      "INFO:tensorflow:Linked TensorRT version: (8, 0, 1)\n",
      "INFO:tensorflow:Loaded TensorRT version: (8, 0, 1)\n",
      "INFO:tensorflow:Assets written to: custom_mobilenetv2_saved_model_TFTRT_INT8/assets\n"
     ]
    }
   ],
   "source": [
    "# measure TF-TRT converting time\n",
    "int8_trt_convert(input_path='../saved_models/custom_mobilenetv2_saved_model', \n",
    "                 output_path='custom_mobilenetv2_saved_model_TFTRT_INT8', \n",
    "                 input_shapes = [[input_data.shape]],\n",
    "                 explicit_batch=False)"
   ]
  },
  {
   "cell_type": "code",
   "execution_count": 15,
   "id": "d22375f6-e055-4593-a583-af5787b1e59a",
   "metadata": {
    "collapsed": true,
    "jupyter": {
     "outputs_hidden": true
    },
    "tags": []
   },
   "outputs": [
    {
     "name": "stdout",
     "output_type": "stream",
     "text": [
      "INFO:tensorflow:Linked TensorRT version: (8, 0, 1)\n",
      "INFO:tensorflow:Loaded TensorRT version: (8, 0, 1)\n"
     ]
    },
    {
     "name": "stderr",
     "output_type": "stream",
     "text": [
      "WARNING:absl:Importing a function (__inference_block5a_se_reduce_layer_call_and_return_conditional_losses_131731) with ops with custom gradients. Will likely fail if a gradient is requested.\n",
      "WARNING:absl:Importing a function (__inference_block7b_expand_activation_layer_call_and_return_conditional_losses_90235) with ops with custom gradients. Will likely fail if a gradient is requested.\n",
      "WARNING:absl:Importing a function (__inference_block2b_se_reduce_layer_call_and_return_conditional_losses_86357) with ops with custom gradients. Will likely fail if a gradient is requested.\n",
      "WARNING:absl:Importing a function (__inference_block6c_activation_layer_call_and_return_conditional_losses_89445) with ops with custom gradients. Will likely fail if a gradient is requested.\n",
      "WARNING:absl:Importing a function (__inference_block2b_expand_activation_layer_call_and_return_conditional_losses_126557) with ops with custom gradients. Will likely fail if a gradient is requested.\n",
      "WARNING:absl:Importing a function (__inference_block6e_expand_activation_layer_call_and_return_conditional_losses_135974) with ops with custom gradients. Will likely fail if a gradient is requested.\n",
      "WARNING:absl:Importing a function (__inference_block4b_activation_layer_call_and_return_conditional_losses_129996) with ops with custom gradients. Will likely fail if a gradient is requested.\n",
      "WARNING:absl:Importing a function (__inference_block3a_se_reduce_layer_call_and_return_conditional_losses_86782) with ops with custom gradients. Will likely fail if a gradient is requested.\n",
      "WARNING:absl:Importing a function (__inference_block1b_se_reduce_layer_call_and_return_conditional_losses_125657) with ops with custom gradients. Will likely fail if a gradient is requested.\n",
      "WARNING:absl:Importing a function (__inference_block4d_se_reduce_layer_call_and_return_conditional_losses_131166) with ops with custom gradients. Will likely fail if a gradient is requested.\n",
      "WARNING:absl:Importing a function (__inference_block7b_se_reduce_layer_call_and_return_conditional_losses_90313) with ops with custom gradients. Will likely fail if a gradient is requested.\n",
      "WARNING:absl:Importing a function (__inference_block4d_expand_activation_layer_call_and_return_conditional_losses_130983) with ops with custom gradients. Will likely fail if a gradient is requested.\n",
      "WARNING:absl:Importing a function (__inference_block2c_expand_activation_layer_call_and_return_conditional_losses_127122) with ops with custom gradients. Will likely fail if a gradient is requested.\n",
      "WARNING:absl:Importing a function (__inference_block4a_expand_activation_layer_call_and_return_conditional_losses_129335) with ops with custom gradients. Will likely fail if a gradient is requested.\n",
      "WARNING:absl:Importing a function (__inference_block2c_expand_activation_layer_call_and_return_conditional_losses_86491) with ops with custom gradients. Will likely fail if a gradient is requested.\n",
      "WARNING:absl:Importing a function (__inference_block6e_activation_layer_call_and_return_conditional_losses_136117) with ops with custom gradients. Will likely fail if a gradient is requested.\n",
      "WARNING:absl:Importing a function (__inference_block4a_activation_layer_call_and_return_conditional_losses_129478) with ops with custom gradients. Will likely fail if a gradient is requested.\n",
      "WARNING:absl:Importing a function (__inference_block7b_se_reduce_layer_call_and_return_conditional_losses_137240) with ops with custom gradients. Will likely fail if a gradient is requested.\n",
      "WARNING:absl:Importing a function (__inference_block6d_expand_activation_layer_call_and_return_conditional_losses_135409) with ops with custom gradients. Will likely fail if a gradient is requested.\n",
      "WARNING:absl:Importing a function (__inference_block5d_se_reduce_layer_call_and_return_conditional_losses_88858) with ops with custom gradients. Will likely fail if a gradient is requested.\n",
      "WARNING:absl:Importing a function (__inference_block6e_se_reduce_layer_call_and_return_conditional_losses_136157) with ops with custom gradients. Will likely fail if a gradient is requested.\n",
      "WARNING:absl:Importing a function (__inference_block4d_expand_activation_layer_call_and_return_conditional_losses_87947) with ops with custom gradients. Will likely fail if a gradient is requested.\n",
      "WARNING:absl:Importing a function (__inference_block3a_se_reduce_layer_call_and_return_conditional_losses_127870) with ops with custom gradients. Will likely fail if a gradient is requested.\n",
      "WARNING:absl:Importing a function (__inference_block3a_activation_layer_call_and_return_conditional_losses_86747) with ops with custom gradients. Will likely fail if a gradient is requested.\n",
      "WARNING:absl:Importing a function (__inference_block2a_se_reduce_layer_call_and_return_conditional_losses_86160) with ops with custom gradients. Will likely fail if a gradient is requested.\n",
      "WARNING:absl:Importing a function (__inference_block5b_expand_activation_layer_call_and_return_conditional_losses_132066) with ops with custom gradients. Will likely fail if a gradient is requested.\n",
      "WARNING:absl:Importing a function (__inference_block1a_activation_layer_call_and_return_conditional_losses_125256) with ops with custom gradients. Will likely fail if a gradient is requested.\n",
      "WARNING:absl:Importing a function (__inference_block6b_se_reduce_layer_call_and_return_conditional_losses_89268) with ops with custom gradients. Will likely fail if a gradient is requested.\n",
      "WARNING:absl:Importing a function (__inference_block5a_expand_activation_layer_call_and_return_conditional_losses_131548) with ops with custom gradients. Will likely fail if a gradient is requested.\n",
      "WARNING:absl:Importing a function (__inference_block5b_expand_activation_layer_call_and_return_conditional_losses_88356) with ops with custom gradients. Will likely fail if a gradient is requested.\n",
      "WARNING:absl:Importing a function (__inference_block2a_se_reduce_layer_call_and_return_conditional_losses_126222) with ops with custom gradients. Will likely fail if a gradient is requested.\n",
      "WARNING:absl:Importing a function (__inference_sequential_49_layer_call_and_return_conditional_losses_116142) with ops with custom gradients. Will likely fail if a gradient is requested.\n",
      "WARNING:absl:Importing a function (__inference_block7a_expand_activation_layer_call_and_return_conditional_losses_136539) with ops with custom gradients. Will likely fail if a gradient is requested.\n",
      "WARNING:absl:Importing a function (__inference_block7b_activation_layer_call_and_return_conditional_losses_137200) with ops with custom gradients. Will likely fail if a gradient is requested.\n",
      "WARNING:absl:Importing a function (__inference_block2b_activation_layer_call_and_return_conditional_losses_126700) with ops with custom gradients. Will likely fail if a gradient is requested.\n",
      "WARNING:absl:Importing a function (__inference_block4c_activation_layer_call_and_return_conditional_losses_130561) with ops with custom gradients. Will likely fail if a gradient is requested.\n",
      "WARNING:absl:Importing a function (__inference_block3a_expand_activation_layer_call_and_return_conditional_losses_127687) with ops with custom gradients. Will likely fail if a gradient is requested.\n",
      "WARNING:absl:Importing a function (__inference_block3c_expand_activation_layer_call_and_return_conditional_losses_87113) with ops with custom gradients. Will likely fail if a gradient is requested.\n",
      "WARNING:absl:Importing a function (__inference_block7b_expand_activation_layer_call_and_return_conditional_losses_137057) with ops with custom gradients. Will likely fail if a gradient is requested.\n",
      "WARNING:absl:Importing a function (__inference_block6c_expand_activation_layer_call_and_return_conditional_losses_134844) with ops with custom gradients. Will likely fail if a gradient is requested.\n",
      "WARNING:absl:Importing a function (__inference_block2a_expand_activation_layer_call_and_return_conditional_losses_126039) with ops with custom gradients. Will likely fail if a gradient is requested.\n",
      "WARNING:absl:Importing a function (__inference_block4b_expand_activation_layer_call_and_return_conditional_losses_87523) with ops with custom gradients. Will likely fail if a gradient is requested.\n",
      "WARNING:absl:Importing a function (__inference_block3c_se_reduce_layer_call_and_return_conditional_losses_87191) with ops with custom gradients. Will likely fail if a gradient is requested.\n",
      "WARNING:absl:Importing a function (__inference_block5d_se_reduce_layer_call_and_return_conditional_losses_133379) with ops with custom gradients. Will likely fail if a gradient is requested.\n",
      "WARNING:absl:Importing a function (__inference_block4c_expand_activation_layer_call_and_return_conditional_losses_130418) with ops with custom gradients. Will likely fail if a gradient is requested.\n",
      "WARNING:absl:Importing a function (__inference_block4c_expand_activation_layer_call_and_return_conditional_losses_87735) with ops with custom gradients. Will likely fail if a gradient is requested.\n",
      "WARNING:absl:Importing a function (__inference_block3b_se_reduce_layer_call_and_return_conditional_losses_128388) with ops with custom gradients. Will likely fail if a gradient is requested.\n",
      "WARNING:absl:Importing a function (__inference_block6b_se_reduce_layer_call_and_return_conditional_losses_134462) with ops with custom gradients. Will likely fail if a gradient is requested.\n",
      "WARNING:absl:Importing a function (__inference_block4c_activation_layer_call_and_return_conditional_losses_87778) with ops with custom gradients. Will likely fail if a gradient is requested.\n",
      "WARNING:absl:Importing a function (__inference_block5a_activation_layer_call_and_return_conditional_losses_88202) with ops with custom gradients. Will likely fail if a gradient is requested.\n",
      "WARNING:absl:Importing a function (__inference_block4a_se_reduce_layer_call_and_return_conditional_losses_87404) with ops with custom gradients. Will likely fail if a gradient is requested.\n",
      "WARNING:absl:Importing a function (__inference_block6d_expand_activation_layer_call_and_return_conditional_losses_89614) with ops with custom gradients. Will likely fail if a gradient is requested.\n",
      "WARNING:absl:Importing a function (__inference_block5a_activation_layer_call_and_return_conditional_losses_131691) with ops with custom gradients. Will likely fail if a gradient is requested.\n",
      "WARNING:absl:Importing a function (__inference_block5c_se_reduce_layer_call_and_return_conditional_losses_88646) with ops with custom gradients. Will likely fail if a gradient is requested.\n",
      "WARNING:absl:Importing a function (__inference_block7a_se_reduce_layer_call_and_return_conditional_losses_136722) with ops with custom gradients. Will likely fail if a gradient is requested.\n",
      "WARNING:absl:Importing a function (__inference_block3b_expand_activation_layer_call_and_return_conditional_losses_128205) with ops with custom gradients. Will likely fail if a gradient is requested.\n",
      "WARNING:absl:Importing a function (__inference_block6d_activation_layer_call_and_return_conditional_losses_89657) with ops with custom gradients. Will likely fail if a gradient is requested.\n",
      "WARNING:absl:Importing a function (__inference_efficientnetb2_layer_call_and_return_conditional_losses_123187) with ops with custom gradients. Will likely fail if a gradient is requested.\n",
      "WARNING:absl:Importing a function (__inference_block2b_activation_layer_call_and_return_conditional_losses_86322) with ops with custom gradients. Will likely fail if a gradient is requested.\n",
      "WARNING:absl:Importing a function (__inference_block6c_se_reduce_layer_call_and_return_conditional_losses_89480) with ops with custom gradients. Will likely fail if a gradient is requested.\n",
      "WARNING:absl:Importing a function (__inference_block4b_activation_layer_call_and_return_conditional_losses_87566) with ops with custom gradients. Will likely fail if a gradient is requested.\n",
      "WARNING:absl:Importing a function (__inference_block4a_se_reduce_layer_call_and_return_conditional_losses_129518) with ops with custom gradients. Will likely fail if a gradient is requested.\n",
      "WARNING:absl:Importing a function (__inference_block7a_se_reduce_layer_call_and_return_conditional_losses_90116) with ops with custom gradients. Will likely fail if a gradient is requested.\n",
      "WARNING:absl:Importing a function (__inference_block1a_se_reduce_layer_call_and_return_conditional_losses_85801) with ops with custom gradients. Will likely fail if a gradient is requested.\n",
      "WARNING:absl:Importing a function (__inference_block4b_expand_activation_layer_call_and_return_conditional_losses_129853) with ops with custom gradients. Will likely fail if a gradient is requested.\n",
      "WARNING:absl:Importing a function (__inference_stem_activation_layer_call_and_return_conditional_losses_85723) with ops with custom gradients. Will likely fail if a gradient is requested.\n",
      "WARNING:absl:Importing a function (__inference_block7b_activation_layer_call_and_return_conditional_losses_90278) with ops with custom gradients. Will likely fail if a gradient is requested.\n",
      "WARNING:absl:Importing a function (__inference_block6a_expand_activation_layer_call_and_return_conditional_losses_88992) with ops with custom gradients. Will likely fail if a gradient is requested.\n",
      "WARNING:absl:Importing a function (__inference_block1b_se_reduce_layer_call_and_return_conditional_losses_85947) with ops with custom gradients. Will likely fail if a gradient is requested.\n",
      "WARNING:absl:Importing a function (__inference_block5c_activation_layer_call_and_return_conditional_losses_88611) with ops with custom gradients. Will likely fail if a gradient is requested.\n",
      "WARNING:absl:Importing a function (__inference_block4c_se_reduce_layer_call_and_return_conditional_losses_130601) with ops with custom gradients. Will likely fail if a gradient is requested.\n",
      "WARNING:absl:Importing a function (__inference_block6c_activation_layer_call_and_return_conditional_losses_134987) with ops with custom gradients. Will likely fail if a gradient is requested.\n",
      "WARNING:absl:Importing a function (__inference_block5a_expand_activation_layer_call_and_return_conditional_losses_88159) with ops with custom gradients. Will likely fail if a gradient is requested.\n",
      "WARNING:absl:Importing a function (__inference_block2a_expand_activation_layer_call_and_return_conditional_losses_86081) with ops with custom gradients. Will likely fail if a gradient is requested.\n",
      "WARNING:absl:Importing a function (__inference_block6b_expand_activation_layer_call_and_return_conditional_losses_89190) with ops with custom gradients. Will likely fail if a gradient is requested.\n",
      "WARNING:absl:Importing a function (__inference_block2a_activation_layer_call_and_return_conditional_losses_126182) with ops with custom gradients. Will likely fail if a gradient is requested.\n",
      "WARNING:absl:Importing a function (__inference_block5c_se_reduce_layer_call_and_return_conditional_losses_132814) with ops with custom gradients. Will likely fail if a gradient is requested.\n",
      "WARNING:absl:Importing a function (__inference_top_activation_layer_call_and_return_conditional_losses_90447) with ops with custom gradients. Will likely fail if a gradient is requested.\n",
      "WARNING:absl:Importing a function (__inference_block6d_activation_layer_call_and_return_conditional_losses_135552) with ops with custom gradients. Will likely fail if a gradient is requested.\n",
      "WARNING:absl:Importing a function (__inference_block5d_activation_layer_call_and_return_conditional_losses_88823) with ops with custom gradients. Will likely fail if a gradient is requested.\n",
      "WARNING:absl:Importing a function (__inference_block6e_expand_activation_layer_call_and_return_conditional_losses_89826) with ops with custom gradients. Will likely fail if a gradient is requested.\n",
      "WARNING:absl:Importing a function (__inference_block3c_se_reduce_layer_call_and_return_conditional_losses_128953) with ops with custom gradients. Will likely fail if a gradient is requested.\n",
      "WARNING:absl:Importing a function (__inference_block1a_activation_layer_call_and_return_conditional_losses_85766) with ops with custom gradients. Will likely fail if a gradient is requested.\n",
      "WARNING:absl:Importing a function (__inference_block5d_expand_activation_layer_call_and_return_conditional_losses_88780) with ops with custom gradients. Will likely fail if a gradient is requested.\n",
      "WARNING:absl:Importing a function (__inference_block2b_expand_activation_layer_call_and_return_conditional_losses_86279) with ops with custom gradients. Will likely fail if a gradient is requested.\n",
      "WARNING:absl:Importing a function (__inference_block1a_se_reduce_layer_call_and_return_conditional_losses_125296) with ops with custom gradients. Will likely fail if a gradient is requested.\n",
      "WARNING:absl:Importing a function (__inference_block2c_activation_layer_call_and_return_conditional_losses_86534) with ops with custom gradients. Will likely fail if a gradient is requested.\n",
      "WARNING:absl:Importing a function (__inference_block1b_activation_layer_call_and_return_conditional_losses_85912) with ops with custom gradients. Will likely fail if a gradient is requested.\n",
      "WARNING:absl:Importing a function (__inference_block6b_activation_layer_call_and_return_conditional_losses_89233) with ops with custom gradients. Will likely fail if a gradient is requested.\n",
      "WARNING:absl:Importing a function (__inference_block2a_activation_layer_call_and_return_conditional_losses_86125) with ops with custom gradients. Will likely fail if a gradient is requested.\n",
      "WARNING:absl:Importing a function (__inference_block4d_activation_layer_call_and_return_conditional_losses_131126) with ops with custom gradients. Will likely fail if a gradient is requested.\n",
      "WARNING:absl:Importing a function (__inference_block3c_expand_activation_layer_call_and_return_conditional_losses_128770) with ops with custom gradients. Will likely fail if a gradient is requested.\n",
      "WARNING:absl:Importing a function (__inference_block6a_se_reduce_layer_call_and_return_conditional_losses_89071) with ops with custom gradients. Will likely fail if a gradient is requested.\n",
      "WARNING:absl:Importing a function (__inference_block5a_se_reduce_layer_call_and_return_conditional_losses_88237) with ops with custom gradients. Will likely fail if a gradient is requested.\n",
      "WARNING:absl:Importing a function (__inference_block4a_expand_activation_layer_call_and_return_conditional_losses_87325) with ops with custom gradients. Will likely fail if a gradient is requested.\n",
      "WARNING:absl:Importing a function (__inference_block6a_activation_layer_call_and_return_conditional_losses_133904) with ops with custom gradients. Will likely fail if a gradient is requested.\n",
      "WARNING:absl:Importing a function (__inference_block7a_expand_activation_layer_call_and_return_conditional_losses_90038) with ops with custom gradients. Will likely fail if a gradient is requested.\n",
      "WARNING:absl:Importing a function (__inference_block2c_activation_layer_call_and_return_conditional_losses_127265) with ops with custom gradients. Will likely fail if a gradient is requested.\n",
      "WARNING:absl:Importing a function (__inference_block5b_activation_layer_call_and_return_conditional_losses_88399) with ops with custom gradients. Will likely fail if a gradient is requested.\n",
      "WARNING:absl:Importing a function (__inference_block5c_activation_layer_call_and_return_conditional_losses_132774) with ops with custom gradients. Will likely fail if a gradient is requested.\n",
      "WARNING:absl:Importing a function (__inference_block7a_activation_layer_call_and_return_conditional_losses_90081) with ops with custom gradients. Will likely fail if a gradient is requested.\n",
      "WARNING:absl:Importing a function (__inference_block5d_activation_layer_call_and_return_conditional_losses_133339) with ops with custom gradients. Will likely fail if a gradient is requested.\n",
      "WARNING:absl:Importing a function (__inference_block3b_expand_activation_layer_call_and_return_conditional_losses_86901) with ops with custom gradients. Will likely fail if a gradient is requested.\n",
      "WARNING:absl:Importing a function (__inference_block6c_se_reduce_layer_call_and_return_conditional_losses_135027) with ops with custom gradients. Will likely fail if a gradient is requested.\n",
      "WARNING:absl:Importing a function (__inference_block1b_activation_layer_call_and_return_conditional_losses_125617) with ops with custom gradients. Will likely fail if a gradient is requested.\n",
      "WARNING:absl:Importing a function (__inference_block4b_se_reduce_layer_call_and_return_conditional_losses_130036) with ops with custom gradients. Will likely fail if a gradient is requested.\n",
      "WARNING:absl:Importing a function (__inference_block6d_se_reduce_layer_call_and_return_conditional_losses_89692) with ops with custom gradients. Will likely fail if a gradient is requested.\n",
      "WARNING:absl:Importing a function (__inference_block6b_activation_layer_call_and_return_conditional_losses_134422) with ops with custom gradients. Will likely fail if a gradient is requested.\n",
      "WARNING:absl:Importing a function (__inference_block4d_se_reduce_layer_call_and_return_conditional_losses_88025) with ops with custom gradients. Will likely fail if a gradient is requested.\n",
      "WARNING:absl:Importing a function (__inference_block6a_expand_activation_layer_call_and_return_conditional_losses_133761) with ops with custom gradients. Will likely fail if a gradient is requested.\n",
      "WARNING:absl:Importing a function (__inference_block6e_activation_layer_call_and_return_conditional_losses_89869) with ops with custom gradients. Will likely fail if a gradient is requested.\n",
      "WARNING:absl:Importing a function (__inference_block2c_se_reduce_layer_call_and_return_conditional_losses_127305) with ops with custom gradients. Will likely fail if a gradient is requested.\n",
      "WARNING:absl:Importing a function (__inference_block5c_expand_activation_layer_call_and_return_conditional_losses_88568) with ops with custom gradients. Will likely fail if a gradient is requested.\n",
      "WARNING:absl:Importing a function (__inference_block6d_se_reduce_layer_call_and_return_conditional_losses_135592) with ops with custom gradients. Will likely fail if a gradient is requested.\n",
      "WARNING:absl:Importing a function (__inference_block5b_se_reduce_layer_call_and_return_conditional_losses_88434) with ops with custom gradients. Will likely fail if a gradient is requested.\n",
      "WARNING:absl:Importing a function (__inference_block5b_activation_layer_call_and_return_conditional_losses_132209) with ops with custom gradients. Will likely fail if a gradient is requested.\n",
      "WARNING:absl:Importing a function (__inference_block4d_activation_layer_call_and_return_conditional_losses_87990) with ops with custom gradients. Will likely fail if a gradient is requested.\n",
      "WARNING:absl:Importing a function (__inference_top_activation_layer_call_and_return_conditional_losses_137622) with ops with custom gradients. Will likely fail if a gradient is requested.\n",
      "WARNING:absl:Importing a function (__inference_block7a_activation_layer_call_and_return_conditional_losses_136682) with ops with custom gradients. Will likely fail if a gradient is requested.\n",
      "WARNING:absl:Importing a function (__inference_block3c_activation_layer_call_and_return_conditional_losses_128913) with ops with custom gradients. Will likely fail if a gradient is requested.\n",
      "WARNING:absl:Importing a function (__inference_block3a_expand_activation_layer_call_and_return_conditional_losses_86703) with ops with custom gradients. Will likely fail if a gradient is requested.\n",
      "WARNING:absl:Importing a function (__inference_block2b_se_reduce_layer_call_and_return_conditional_losses_126740) with ops with custom gradients. Will likely fail if a gradient is requested.\n",
      "WARNING:absl:Importing a function (__inference_block2c_se_reduce_layer_call_and_return_conditional_losses_86569) with ops with custom gradients. Will likely fail if a gradient is requested.\n",
      "WARNING:absl:Importing a function (__inference_block6b_expand_activation_layer_call_and_return_conditional_losses_134279) with ops with custom gradients. Will likely fail if a gradient is requested.\n",
      "WARNING:absl:Importing a function (__inference_block3b_activation_layer_call_and_return_conditional_losses_86944) with ops with custom gradients. Will likely fail if a gradient is requested.\n",
      "WARNING:absl:Importing a function (__inference_efficientnetb2_layer_call_and_return_conditional_losses_120567) with ops with custom gradients. Will likely fail if a gradient is requested.\n",
      "WARNING:absl:Importing a function (__inference_block3b_se_reduce_layer_call_and_return_conditional_losses_86979) with ops with custom gradients. Will likely fail if a gradient is requested.\n",
      "WARNING:absl:Importing a function (__inference_block4a_activation_layer_call_and_return_conditional_losses_87369) with ops with custom gradients. Will likely fail if a gradient is requested.\n",
      "WARNING:absl:Importing a function (__inference__wrapped_model_75338) with ops with custom gradients. Will likely fail if a gradient is requested.\n",
      "WARNING:absl:Importing a function (__inference_block6e_se_reduce_layer_call_and_return_conditional_losses_89904) with ops with custom gradients. Will likely fail if a gradient is requested.\n",
      "WARNING:absl:Importing a function (__inference_block6a_activation_layer_call_and_return_conditional_losses_89036) with ops with custom gradients. Will likely fail if a gradient is requested.\n",
      "WARNING:absl:Importing a function (__inference_block3c_activation_layer_call_and_return_conditional_losses_87156) with ops with custom gradients. Will likely fail if a gradient is requested.\n",
      "WARNING:absl:Importing a function (__inference_block6a_se_reduce_layer_call_and_return_conditional_losses_133944) with ops with custom gradients. Will likely fail if a gradient is requested.\n",
      "WARNING:absl:Importing a function (__inference_block5b_se_reduce_layer_call_and_return_conditional_losses_132249) with ops with custom gradients. Will likely fail if a gradient is requested.\n",
      "WARNING:absl:Importing a function (__inference_block3a_activation_layer_call_and_return_conditional_losses_127830) with ops with custom gradients. Will likely fail if a gradient is requested.\n",
      "WARNING:absl:Importing a function (__inference_stem_activation_layer_call_and_return_conditional_losses_125113) with ops with custom gradients. Will likely fail if a gradient is requested.\n",
      "WARNING:absl:Importing a function (__inference_block5c_expand_activation_layer_call_and_return_conditional_losses_132631) with ops with custom gradients. Will likely fail if a gradient is requested.\n",
      "WARNING:absl:Importing a function (__inference_block3b_activation_layer_call_and_return_conditional_losses_128348) with ops with custom gradients. Will likely fail if a gradient is requested.\n",
      "WARNING:absl:Importing a function (__inference_block4b_se_reduce_layer_call_and_return_conditional_losses_87601) with ops with custom gradients. Will likely fail if a gradient is requested.\n",
      "WARNING:absl:Importing a function (__inference_sequential_49_layer_call_and_return_conditional_losses_113270) with ops with custom gradients. Will likely fail if a gradient is requested.\n",
      "WARNING:absl:Importing a function (__inference_block5d_expand_activation_layer_call_and_return_conditional_losses_133196) with ops with custom gradients. Will likely fail if a gradient is requested.\n",
      "WARNING:absl:Importing a function (__inference_block4c_se_reduce_layer_call_and_return_conditional_losses_87813) with ops with custom gradients. Will likely fail if a gradient is requested.\n",
      "WARNING:absl:Importing a function (__inference_block6c_expand_activation_layer_call_and_return_conditional_losses_89402) with ops with custom gradients. Will likely fail if a gradient is requested.\n"
     ]
    },
    {
     "name": "stdout",
     "output_type": "stream",
     "text": [
      "INFO:tensorflow:Assets written to: custom_efficientnetb2_saved_model_TFTRT_F32/assets\n"
     ]
    },
    {
     "name": "stderr",
     "output_type": "stream",
     "text": [
      "INFO:tensorflow:Assets written to: custom_efficientnetb2_saved_model_TFTRT_F32/assets\n"
     ]
    }
   ],
   "source": [
    "# measure TF-TRT converting time\n",
    "f32_trt_convert(input_path='../saved_models/custom_efficientnetb2_saved_model', \n",
    "                 output_path='custom_efficientnetb2_saved_model_TFTRT_F32', \n",
    "                 input_shapes = [[input_data.shape]],\n",
    "                 explicit_batch=False)"
   ]
  },
  {
   "cell_type": "code",
   "execution_count": null,
   "id": "5f25a0b7-fc7c-4bb0-b551-125e088b9c2e",
   "metadata": {
    "tags": []
   },
   "outputs": [],
   "source": [
    "# measure TF-TRT converting time\n",
    "int8_trt_convert(input_path='../saved_models/custom_efficientnetb2_saved_model', \n",
    "                 output_path='custom_efficientnetb2_saved_model_TFTRT_INT8', \n",
    "                 input_shapes = [[input_data.shape]],\n",
    "                 explicit_batch=False)"
   ]
  },
  {
   "cell_type": "code",
   "execution_count": null,
   "id": "869b8115-a6c4-4087-a397-5118cb661376",
   "metadata": {
    "tags": []
   },
   "outputs": [],
   "source": [
    "# measure TF-TRT converting time\n",
    "f32_trt_convert(input_path='../saved_models/custom_efficientnetb1_saved_model', \n",
    "                 output_path='custom_efficientnetb1_saved_model_TFTRT_F32', \n",
    "                 input_shapes = [[input_data.shape]],\n",
    "                 explicit_batch=False)"
   ]
  },
  {
   "cell_type": "code",
   "execution_count": null,
   "id": "d0f25392-bfa2-4dec-8bcd-957d15dd28f5",
   "metadata": {
    "tags": []
   },
   "outputs": [],
   "source": [
    "# measure TF-TRT converting time\n",
    "int8_trt_convert(input_path='../saved_models/custom_efficientnetb1_saved_model', \n",
    "                 output_path='custom_efficientnetb1_saved_model_TFTRT_INT8', \n",
    "                 input_shapes = [[input_data.shape]],\n",
    "                 explicit_batch=False)"
   ]
  },
  {
   "cell_type": "code",
   "execution_count": 12,
   "id": "68c2b942-fe69-44a6-a8d0-d865ddb21844",
   "metadata": {
    "collapsed": true,
    "jupyter": {
     "outputs_hidden": true
    },
    "tags": []
   },
   "outputs": [
    {
     "data": {
      "text/plain": [
       "[['construction_danger',\n",
       "  'park_danger',\n",
       "  array([[9.9902344e-01, 6.9570541e-04, 0.0000000e+00, 0.0000000e+00,\n",
       "          3.9815903e-05, 2.3663044e-05]], dtype=float32)],\n",
       " ['construction_danger',\n",
       "  'park_danger',\n",
       "  array([[9.9902344e-01, 6.9570541e-04, 0.0000000e+00, 0.0000000e+00,\n",
       "          3.9815903e-05, 2.3663044e-05]], dtype=float32)],\n",
       " ['construction_danger',\n",
       "  'park_danger',\n",
       "  array([[9.9902344e-01, 6.9570541e-04, 0.0000000e+00, 0.0000000e+00,\n",
       "          3.9815903e-05, 2.3663044e-05]], dtype=float32)],\n",
       " ['construction_danger',\n",
       "  'park_danger',\n",
       "  array([[9.9902344e-01, 6.9570541e-04, 0.0000000e+00, 0.0000000e+00,\n",
       "          3.9815903e-05, 2.3663044e-05]], dtype=float32)],\n",
       " ['construction_danger',\n",
       "  'park_danger',\n",
       "  array([[9.9902344e-01, 6.9570541e-04, 0.0000000e+00, 0.0000000e+00,\n",
       "          3.9815903e-05, 2.3663044e-05]], dtype=float32)],\n",
       " ['construction_danger',\n",
       "  'park_danger',\n",
       "  array([[9.9902344e-01, 6.9570541e-04, 0.0000000e+00, 0.0000000e+00,\n",
       "          3.9815903e-05, 2.3663044e-05]], dtype=float32)],\n",
       " ['construction_danger',\n",
       "  'park_danger',\n",
       "  array([[9.9902344e-01, 6.9570541e-04, 0.0000000e+00, 0.0000000e+00,\n",
       "          3.9815903e-05, 2.3663044e-05]], dtype=float32)],\n",
       " ['construction_danger',\n",
       "  'park_danger',\n",
       "  array([[9.9902344e-01, 6.9570541e-04, 0.0000000e+00, 0.0000000e+00,\n",
       "          3.9815903e-05, 2.3663044e-05]], dtype=float32)],\n",
       " ['construction_danger',\n",
       "  'park_danger',\n",
       "  array([[9.9902344e-01, 6.9570541e-04, 0.0000000e+00, 0.0000000e+00,\n",
       "          3.9815903e-05, 2.3663044e-05]], dtype=float32)],\n",
       " ['construction_danger',\n",
       "  'park_danger',\n",
       "  array([[9.9902344e-01, 6.9570541e-04, 0.0000000e+00, 0.0000000e+00,\n",
       "          3.9815903e-05, 2.3663044e-05]], dtype=float32)]]"
      ]
     },
     "execution_count": 12,
     "metadata": {},
     "output_type": "execute_result"
    }
   ],
   "source": [
    "saved_model_infer['construction_danger']"
   ]
  },
  {
   "cell_type": "code",
   "execution_count": 13,
   "id": "7dcbf702-1b8a-4985-9753-77cf6746ee8e",
   "metadata": {
    "collapsed": true,
    "jupyter": {
     "outputs_hidden": true
    },
    "tags": []
   },
   "outputs": [
    {
     "data": {
      "text/plain": [
       "[['construction_safe',\n",
       "  'park_safe',\n",
       "  array([[2.8002930e-01, 7.1777344e-01, 2.3841858e-07, 1.3709068e-06,\n",
       "          7.0810318e-05, 2.1705627e-03]], dtype=float32)],\n",
       " ['construction_safe',\n",
       "  'park_safe',\n",
       "  array([[2.8002930e-01, 7.1777344e-01, 2.3841858e-07, 1.3709068e-06,\n",
       "          7.0810318e-05, 2.1705627e-03]], dtype=float32)],\n",
       " ['construction_safe',\n",
       "  'park_safe',\n",
       "  array([[2.8002930e-01, 7.1777344e-01, 2.3841858e-07, 1.3709068e-06,\n",
       "          7.0810318e-05, 2.1705627e-03]], dtype=float32)],\n",
       " ['construction_safe',\n",
       "  'park_safe',\n",
       "  array([[2.8002930e-01, 7.1777344e-01, 2.3841858e-07, 1.3709068e-06,\n",
       "          7.0810318e-05, 2.1705627e-03]], dtype=float32)],\n",
       " ['construction_safe',\n",
       "  'park_safe',\n",
       "  array([[2.8002930e-01, 7.1777344e-01, 2.3841858e-07, 1.3709068e-06,\n",
       "          7.0810318e-05, 2.1705627e-03]], dtype=float32)],\n",
       " ['construction_safe',\n",
       "  'park_safe',\n",
       "  array([[2.8002930e-01, 7.1777344e-01, 2.3841858e-07, 1.3709068e-06,\n",
       "          7.0810318e-05, 2.1705627e-03]], dtype=float32)],\n",
       " ['construction_safe',\n",
       "  'park_safe',\n",
       "  array([[2.8002930e-01, 7.1777344e-01, 2.3841858e-07, 1.3709068e-06,\n",
       "          7.0810318e-05, 2.1705627e-03]], dtype=float32)],\n",
       " ['construction_safe',\n",
       "  'park_safe',\n",
       "  array([[2.8002930e-01, 7.1777344e-01, 2.3841858e-07, 1.3709068e-06,\n",
       "          7.0810318e-05, 2.1705627e-03]], dtype=float32)],\n",
       " ['construction_safe',\n",
       "  'park_safe',\n",
       "  array([[2.8002930e-01, 7.1777344e-01, 2.3841858e-07, 1.3709068e-06,\n",
       "          7.0810318e-05, 2.1705627e-03]], dtype=float32)],\n",
       " ['construction_safe',\n",
       "  'park_safe',\n",
       "  array([[2.8002930e-01, 7.1777344e-01, 2.3841858e-07, 1.3709068e-06,\n",
       "          7.0810318e-05, 2.1705627e-03]], dtype=float32)]]"
      ]
     },
     "execution_count": 13,
     "metadata": {},
     "output_type": "execute_result"
    }
   ],
   "source": [
    "saved_model_infer['construction_safe']"
   ]
  },
  {
   "cell_type": "code",
   "execution_count": 4,
   "id": "09b69daa-f5f2-4a9c-9463-3cec7d3ca8fe",
   "metadata": {
    "collapsed": true,
    "jupyter": {
     "outputs_hidden": true
    },
    "tags": []
   },
   "outputs": [
    {
     "name": "stdout",
     "output_type": "stream",
     "text": [
      "WARNING:tensorflow:SavedModel saved prior to TF 2.5 detected when loading Keras model. Please ensure that you are saving the model with model.save() or tf.keras.models.save_model(), *NOT* tf.saved_model.save(). To confirm, there should be a file named \"keras_metadata.pb\" in the SavedModel directory.\n"
     ]
    },
    {
     "name": "stderr",
     "output_type": "stream",
     "text": [
      "WARNING:absl:Importing a function (__inference_block3c_expand_activation_layer_call_and_return_conditional_losses_208938) with ops with custom gradients. Will likely fail if a gradient is requested.\n",
      "WARNING:absl:Importing a function (__inference_block5b_expand_activation_layer_call_and_return_conditional_losses_213671) with ops with custom gradients. Will likely fail if a gradient is requested.\n",
      "WARNING:absl:Importing a function (__inference_block2c_expand_activation_layer_call_and_return_conditional_losses_218290) with ops with custom gradients. Will likely fail if a gradient is requested.\n",
      "WARNING:absl:Importing a function (__inference_block5a_expand_activation_layer_call_and_return_conditional_losses_217020) with ops with custom gradients. Will likely fail if a gradient is requested.\n",
      "WARNING:absl:Importing a function (__inference_block6c_expand_activation_layer_call_and_return_conditional_losses_218173) with ops with custom gradients. Will likely fail if a gradient is requested.\n",
      "WARNING:absl:Importing a function (__inference_block3a_se_reduce_layer_call_and_return_conditional_losses_189767) with ops with custom gradients. Will likely fail if a gradient is requested.\n",
      "WARNING:absl:Importing a function (__inference_block4b_se_reduce_layer_call_and_return_conditional_losses_189454) with ops with custom gradients. Will likely fail if a gradient is requested.\n",
      "WARNING:absl:Importing a function (__inference_block5c_expand_activation_layer_call_and_return_conditional_losses_216753) with ops with custom gradients. Will likely fail if a gradient is requested.\n",
      "WARNING:absl:Importing a function (__inference_block4d_expand_activation_layer_call_and_return_conditional_losses_208356) with ops with custom gradients. Will likely fail if a gradient is requested.\n",
      "WARNING:absl:Importing a function (__inference_stem_activation_layer_call_and_return_conditional_losses_205056) with ops with custom gradients. Will likely fail if a gradient is requested.\n",
      "WARNING:absl:Importing a function (__inference_block4a_expand_activation_layer_call_and_return_conditional_losses_218159) with ops with custom gradients. Will likely fail if a gradient is requested.\n",
      "WARNING:absl:Importing a function (__inference_block5d_se_reduce_layer_call_and_return_conditional_losses_221160) with ops with custom gradients. Will likely fail if a gradient is requested.\n",
      "WARNING:absl:Importing a function (__inference_block5d_activation_layer_call_and_return_conditional_losses_218548) with ops with custom gradients. Will likely fail if a gradient is requested.\n",
      "WARNING:absl:Importing a function (__inference_block5c_se_reduce_layer_call_and_return_conditional_losses_199867) with ops with custom gradients. Will likely fail if a gradient is requested.\n",
      "WARNING:absl:Importing a function (__inference_block3c_expand_activation_layer_call_and_return_conditional_losses_204289) with ops with custom gradients. Will likely fail if a gradient is requested.\n",
      "WARNING:absl:Importing a function (__inference_block5b_activation_layer_call_and_return_conditional_losses_209047) with ops with custom gradients. Will likely fail if a gradient is requested.\n",
      "WARNING:absl:Importing a function (__inference_efficientnetb1_layer_call_and_return_conditional_losses_203729) with ops with custom gradients. Will likely fail if a gradient is requested.\n",
      "WARNING:absl:Importing a function (__inference_top_activation_layer_call_and_return_conditional_losses_217459) with ops with custom gradients. Will likely fail if a gradient is requested.\n",
      "WARNING:absl:Importing a function (__inference_block2c_activation_layer_call_and_return_conditional_losses_189532) with ops with custom gradients. Will likely fail if a gradient is requested.\n",
      "WARNING:absl:Importing a function (__inference_block7b_activation_layer_call_and_return_conditional_losses_198531) with ops with custom gradients. Will likely fail if a gradient is requested.\n",
      "WARNING:absl:Importing a function (__inference_block2a_se_reduce_layer_call_and_return_conditional_losses_189976) with ops with custom gradients. Will likely fail if a gradient is requested.\n",
      "WARNING:absl:Importing a function (__inference_block2c_se_reduce_layer_call_and_return_conditional_losses_217315) with ops with custom gradients. Will likely fail if a gradient is requested.\n",
      "WARNING:absl:Importing a function (__inference_block4b_expand_activation_layer_call_and_return_conditional_losses_213856) with ops with custom gradients. Will likely fail if a gradient is requested.\n",
      "WARNING:absl:Importing a function (__inference_block1a_activation_layer_call_and_return_conditional_losses_193522) with ops with custom gradients. Will likely fail if a gradient is requested.\n",
      "WARNING:absl:Importing a function (__inference__wrapped_model_188230) with ops with custom gradients. Will likely fail if a gradient is requested.\n",
      "WARNING:absl:Importing a function (__inference_block1a_se_reduce_layer_call_and_return_conditional_losses_208376) with ops with custom gradients. Will likely fail if a gradient is requested.\n",
      "WARNING:absl:Importing a function (__inference_block4d_se_reduce_layer_call_and_return_conditional_losses_203857) with ops with custom gradients. Will likely fail if a gradient is requested.\n",
      "WARNING:absl:Importing a function (__inference_block6b_se_reduce_layer_call_and_return_conditional_losses_209700) with ops with custom gradients. Will likely fail if a gradient is requested.\n",
      "WARNING:absl:Importing a function (__inference_block5a_expand_activation_layer_call_and_return_conditional_losses_215028) with ops with custom gradients. Will likely fail if a gradient is requested.\n",
      "WARNING:absl:Importing a function (__inference_block3b_expand_activation_layer_call_and_return_conditional_losses_203738) with ops with custom gradients. Will likely fail if a gradient is requested.\n",
      "WARNING:absl:Importing a function (__inference_block5b_se_reduce_layer_call_and_return_conditional_losses_189040) with ops with custom gradients. Will likely fail if a gradient is requested.\n",
      "WARNING:absl:Importing a function (__inference_block5b_activation_layer_call_and_return_conditional_losses_217350) with ops with custom gradients. Will likely fail if a gradient is requested.\n",
      "WARNING:absl:Importing a function (__inference_block6e_activation_layer_call_and_return_conditional_losses_214216) with ops with custom gradients. Will likely fail if a gradient is requested.\n",
      "WARNING:absl:Importing a function (__inference_block1a_se_reduce_layer_call_and_return_conditional_losses_189114) with ops with custom gradients. Will likely fail if a gradient is requested.\n",
      "WARNING:absl:Importing a function (__inference_block6d_expand_activation_layer_call_and_return_conditional_losses_200609) with ops with custom gradients. Will likely fail if a gradient is requested.\n",
      "WARNING:absl:Importing a function (__inference_block5a_se_reduce_layer_call_and_return_conditional_losses_209548) with ops with custom gradients. Will likely fail if a gradient is requested.\n",
      "WARNING:absl:Importing a function (__inference_block3a_expand_activation_layer_call_and_return_conditional_losses_204298) with ops with custom gradients. Will likely fail if a gradient is requested.\n",
      "WARNING:absl:Importing a function (__inference_block7a_expand_activation_layer_call_and_return_conditional_losses_209625) with ops with custom gradients. Will likely fail if a gradient is requested.\n",
      "WARNING:absl:Importing a function (__inference_block6e_expand_activation_layer_call_and_return_conditional_losses_215500) with ops with custom gradients. Will likely fail if a gradient is requested.\n",
      "WARNING:absl:Importing a function (__inference_block2c_expand_activation_layer_call_and_return_conditional_losses_210399) with ops with custom gradients. Will likely fail if a gradient is requested.\n",
      "WARNING:absl:Importing a function (__inference_block3c_activation_layer_call_and_return_conditional_losses_200529) with ops with custom gradients. Will likely fail if a gradient is requested.\n",
      "WARNING:absl:Importing a function (__inference_block1b_se_reduce_layer_call_and_return_conditional_losses_204665) with ops with custom gradients. Will likely fail if a gradient is requested.\n",
      "WARNING:absl:Importing a function (__inference_block2a_activation_layer_call_and_return_conditional_losses_210413) with ops with custom gradients. Will likely fail if a gradient is requested.\n",
      "WARNING:absl:Importing a function (__inference_block3b_se_reduce_layer_call_and_return_conditional_losses_204167) with ops with custom gradients. Will likely fail if a gradient is requested.\n",
      "WARNING:absl:Importing a function (__inference_block6e_activation_layer_call_and_return_conditional_losses_213914) with ops with custom gradients. Will likely fail if a gradient is requested.\n",
      "WARNING:absl:Importing a function (__inference_block2c_activation_layer_call_and_return_conditional_losses_200268) with ops with custom gradients. Will likely fail if a gradient is requested.\n",
      "WARNING:absl:Importing a function (__inference_block4d_activation_layer_call_and_return_conditional_losses_219788) with ops with custom gradients. Will likely fail if a gradient is requested.\n",
      "WARNING:absl:Importing a function (__inference_block6c_se_reduce_layer_call_and_return_conditional_losses_197310) with ops with custom gradients. Will likely fail if a gradient is requested.\n",
      "WARNING:absl:Importing a function (__inference_block5d_se_reduce_layer_call_and_return_conditional_losses_197529) with ops with custom gradients. Will likely fail if a gradient is requested.\n",
      "WARNING:absl:Importing a function (__inference_block1a_activation_layer_call_and_return_conditional_losses_219927) with ops with custom gradients. Will likely fail if a gradient is requested.\n",
      "WARNING:absl:Importing a function (__inference_block2b_activation_layer_call_and_return_conditional_losses_193259) with ops with custom gradients. Will likely fail if a gradient is requested.\n",
      "WARNING:absl:Importing a function (__inference_block7b_se_reduce_layer_call_and_return_conditional_losses_219055) with ops with custom gradients. Will likely fail if a gradient is requested.\n",
      "WARNING:absl:Importing a function (__inference_block6a_se_reduce_layer_call_and_return_conditional_losses_198792) with ops with custom gradients. Will likely fail if a gradient is requested.\n",
      "WARNING:absl:Importing a function (__inference_block4a_se_reduce_layer_call_and_return_conditional_losses_198065) with ops with custom gradients. Will likely fail if a gradient is requested.\n",
      "WARNING:absl:Importing a function (__inference_block3c_se_reduce_layer_call_and_return_conditional_losses_213655) with ops with custom gradients. Will likely fail if a gradient is requested.\n",
      "WARNING:absl:Importing a function (__inference_block5a_activation_layer_call_and_return_conditional_losses_217583) with ops with custom gradients. Will likely fail if a gradient is requested.\n",
      "WARNING:absl:Importing a function (__inference_block3c_se_reduce_layer_call_and_return_conditional_losses_219404) with ops with custom gradients. Will likely fail if a gradient is requested.\n",
      "WARNING:absl:Importing a function (__inference_block4d_se_reduce_layer_call_and_return_conditional_losses_214765) with ops with custom gradients. Will likely fail if a gradient is requested.\n",
      "WARNING:absl:Importing a function (__inference_block7a_activation_layer_call_and_return_conditional_losses_215100) with ops with custom gradients. Will likely fail if a gradient is requested.\n",
      "WARNING:absl:Importing a function (__inference_block3a_se_reduce_layer_call_and_return_conditional_losses_217011) with ops with custom gradients. Will likely fail if a gradient is requested.\n",
      "WARNING:absl:Importing a function (__inference_block6c_activation_layer_call_and_return_conditional_losses_197923) with ops with custom gradients. Will likely fail if a gradient is requested.\n",
      "WARNING:absl:Importing a function (__inference_block4d_activation_layer_call_and_return_conditional_losses_220555) with ops with custom gradients. Will likely fail if a gradient is requested.\n",
      "WARNING:absl:Importing a function (__inference_block4b_expand_activation_layer_call_and_return_conditional_losses_185383) with ops with custom gradients. Will likely fail if a gradient is requested.\n",
      "WARNING:absl:Importing a function (__inference_block5b_se_reduce_layer_call_and_return_conditional_losses_198257) with ops with custom gradients. Will likely fail if a gradient is requested.\n",
      "WARNING:absl:Importing a function (__inference_block5b_expand_activation_layer_call_and_return_conditional_losses_220963) with ops with custom gradients. Will likely fail if a gradient is requested.\n",
      "WARNING:absl:Importing a function (__inference_block7a_se_reduce_layer_call_and_return_conditional_losses_215058) with ops with custom gradients. Will likely fail if a gradient is requested.\n",
      "WARNING:absl:Importing a function (__inference_block6c_se_reduce_layer_call_and_return_conditional_losses_209453) with ops with custom gradients. Will likely fail if a gradient is requested.\n",
      "WARNING:absl:Importing a function (__inference_block2b_expand_activation_layer_call_and_return_conditional_losses_216285) with ops with custom gradients. Will likely fail if a gradient is requested.\n",
      "WARNING:absl:Importing a function (__inference_block5d_expand_activation_layer_call_and_return_conditional_losses_189187) with ops with custom gradients. Will likely fail if a gradient is requested.\n",
      "WARNING:absl:Importing a function (__inference_block3a_activation_layer_call_and_return_conditional_losses_209080) with ops with custom gradients. Will likely fail if a gradient is requested.\n",
      "WARNING:absl:Importing a function (__inference_block6a_se_reduce_layer_call_and_return_conditional_losses_220124) with ops with custom gradients. Will likely fail if a gradient is requested.\n",
      "WARNING:absl:Importing a function (__inference_block1b_se_reduce_layer_call_and_return_conditional_losses_217441) with ops with custom gradients. Will likely fail if a gradient is requested.\n",
      "WARNING:absl:Importing a function (__inference_sequential_47_layer_call_and_return_conditional_losses_212780) with ops with custom gradients. Will likely fail if a gradient is requested.\n",
      "WARNING:absl:Importing a function (__inference_block6d_expand_activation_layer_call_and_return_conditional_losses_204393) with ops with custom gradients. Will likely fail if a gradient is requested.\n",
      "WARNING:absl:Importing a function (__inference_block1b_activation_layer_call_and_return_conditional_losses_193438) with ops with custom gradients. Will likely fail if a gradient is requested.\n",
      "WARNING:absl:Importing a function (__inference_block4b_activation_layer_call_and_return_conditional_losses_188888) with ops with custom gradients. Will likely fail if a gradient is requested.\n",
      "WARNING:absl:Importing a function (__inference_block4d_expand_activation_layer_call_and_return_conditional_losses_221068) with ops with custom gradients. Will likely fail if a gradient is requested.\n",
      "WARNING:absl:Importing a function (__inference_block7b_se_reduce_layer_call_and_return_conditional_losses_199458) with ops with custom gradients. Will likely fail if a gradient is requested.\n",
      "WARNING:absl:Importing a function (__inference_block3a_activation_layer_call_and_return_conditional_losses_204597) with ops with custom gradients. Will likely fail if a gradient is requested.\n",
      "WARNING:absl:Importing a function (__inference_block7b_expand_activation_layer_call_and_return_conditional_losses_217760) with ops with custom gradients. Will likely fail if a gradient is requested.\n",
      "WARNING:absl:Importing a function (__inference_block5c_activation_layer_call_and_return_conditional_losses_197420) with ops with custom gradients. Will likely fail if a gradient is requested.\n",
      "WARNING:absl:Importing a function (__inference_block3b_activation_layer_call_and_return_conditional_losses_204236) with ops with custom gradients. Will likely fail if a gradient is requested.\n",
      "WARNING:absl:Importing a function (__inference_block3b_activation_layer_call_and_return_conditional_losses_193827) with ops with custom gradients. Will likely fail if a gradient is requested.\n",
      "WARNING:absl:Importing a function (__inference_block7a_se_reduce_layer_call_and_return_conditional_losses_216730) with ops with custom gradients. Will likely fail if a gradient is requested.\n",
      "WARNING:absl:Importing a function (__inference_block7a_expand_activation_layer_call_and_return_conditional_losses_204527) with ops with custom gradients. Will likely fail if a gradient is requested.\n",
      "WARNING:absl:Importing a function (__inference_block6b_activation_layer_call_and_return_conditional_losses_193513) with ops with custom gradients. Will likely fail if a gradient is requested.\n",
      "WARNING:absl:Importing a function (__inference_block2a_activation_layer_call_and_return_conditional_losses_198332) with ops with custom gradients. Will likely fail if a gradient is requested.\n",
      "WARNING:absl:Importing a function (__inference_block4a_expand_activation_layer_call_and_return_conditional_losses_199883) with ops with custom gradients. Will likely fail if a gradient is requested.\n",
      "WARNING:absl:Importing a function (__inference_block2c_se_reduce_layer_call_and_return_conditional_losses_213099) with ops with custom gradients. Will likely fail if a gradient is requested.\n",
      "WARNING:absl:Importing a function (__inference_block2a_expand_activation_layer_call_and_return_conditional_losses_199591) with ops with custom gradients. Will likely fail if a gradient is requested.\n",
      "WARNING:absl:Importing a function (__inference_block5a_se_reduce_layer_call_and_return_conditional_losses_198890) with ops with custom gradients. Will likely fail if a gradient is requested.\n",
      "WARNING:absl:Importing a function (__inference_block2a_expand_activation_layer_call_and_return_conditional_losses_219648) with ops with custom gradients. Will likely fail if a gradient is requested.\n",
      "WARNING:absl:Importing a function (__inference_block6b_activation_layer_call_and_return_conditional_losses_214813) with ops with custom gradients. Will likely fail if a gradient is requested.\n",
      "WARNING:absl:Importing a function (__inference_block4a_activation_layer_call_and_return_conditional_losses_198369) with ops with custom gradients. Will likely fail if a gradient is requested.\n",
      "WARNING:absl:Importing a function (__inference_block5d_expand_activation_layer_call_and_return_conditional_losses_210186) with ops with custom gradients. Will likely fail if a gradient is requested.\n",
      "WARNING:absl:Importing a function (__inference_block6b_se_reduce_layer_call_and_return_conditional_losses_198522) with ops with custom gradients. Will likely fail if a gradient is requested.\n",
      "WARNING:absl:Importing a function (__inference_block5d_activation_layer_call_and_return_conditional_losses_208565) with ops with custom gradients. Will likely fail if a gradient is requested.\n",
      "WARNING:absl:Importing a function (__inference_block5a_activation_layer_call_and_return_conditional_losses_216795) with ops with custom gradients. Will likely fail if a gradient is requested.\n",
      "WARNING:absl:Importing a function (__inference_block6e_expand_activation_layer_call_and_return_conditional_losses_214445) with ops with custom gradients. Will likely fail if a gradient is requested.\n",
      "WARNING:absl:Importing a function (__inference_block4c_activation_layer_call_and_return_conditional_losses_197956) with ops with custom gradients. Will likely fail if a gradient is requested.\n",
      "WARNING:absl:Importing a function (__inference_block4c_se_reduce_layer_call_and_return_conditional_losses_219720) with ops with custom gradients. Will likely fail if a gradient is requested.\n",
      "WARNING:absl:Importing a function (__inference_block6d_activation_layer_call_and_return_conditional_losses_216591) with ops with custom gradients. Will likely fail if a gradient is requested.\n",
      "WARNING:absl:Importing a function (__inference_top_activation_layer_call_and_return_conditional_losses_220023) with ops with custom gradients. Will likely fail if a gradient is requested.\n",
      "WARNING:absl:Importing a function (__inference_sequential_47_layer_call_and_return_conditional_losses_207918) with ops with custom gradients. Will likely fail if a gradient is requested.\n",
      "WARNING:absl:Importing a function (__inference_block3c_activation_layer_call_and_return_conditional_losses_212922) with ops with custom gradients. Will likely fail if a gradient is requested.\n",
      "WARNING:absl:Importing a function (__inference_block4c_expand_activation_layer_call_and_return_conditional_losses_203981) with ops with custom gradients. Will likely fail if a gradient is requested.\n",
      "WARNING:absl:Importing a function (__inference_block6d_se_reduce_layer_call_and_return_conditional_losses_193589) with ops with custom gradients. Will likely fail if a gradient is requested.\n",
      "WARNING:absl:Importing a function (__inference_efficientnetb1_layer_call_and_return_conditional_losses_192944) with ops with custom gradients. Will likely fail if a gradient is requested.\n",
      "WARNING:absl:Importing a function (__inference_block1b_activation_layer_call_and_return_conditional_losses_220714) with ops with custom gradients. Will likely fail if a gradient is requested.\n",
      "WARNING:absl:Importing a function (__inference_block6c_activation_layer_call_and_return_conditional_losses_214702) with ops with custom gradients. Will likely fail if a gradient is requested.\n",
      "WARNING:absl:Importing a function (__inference_block6b_expand_activation_layer_call_and_return_conditional_losses_200221) with ops with custom gradients. Will likely fail if a gradient is requested.\n",
      "WARNING:absl:Importing a function (__inference_block6e_se_reduce_layer_call_and_return_conditional_losses_214387) with ops with custom gradients. Will likely fail if a gradient is requested.\n",
      "WARNING:absl:Importing a function (__inference_block6b_expand_activation_layer_call_and_return_conditional_losses_208476) with ops with custom gradients. Will likely fail if a gradient is requested.\n",
      "WARNING:absl:Importing a function (__inference_block4c_se_reduce_layer_call_and_return_conditional_losses_209345) with ops with custom gradients. Will likely fail if a gradient is requested.\n",
      "WARNING:absl:Importing a function (__inference_block6a_expand_activation_layer_call_and_return_conditional_losses_201299) with ops with custom gradients. Will likely fail if a gradient is requested.\n",
      "WARNING:absl:Importing a function (__inference_stem_activation_layer_call_and_return_conditional_losses_217072) with ops with custom gradients. Will likely fail if a gradient is requested.\n",
      "WARNING:absl:Importing a function (__inference_block3a_expand_activation_layer_call_and_return_conditional_losses_217574) with ops with custom gradients. Will likely fail if a gradient is requested.\n",
      "WARNING:absl:Importing a function (__inference_block6d_activation_layer_call_and_return_conditional_losses_197778) with ops with custom gradients. Will likely fail if a gradient is requested.\n",
      "WARNING:absl:Importing a function (__inference_block5c_activation_layer_call_and_return_conditional_losses_198808) with ops with custom gradients. Will likely fail if a gradient is requested.\n",
      "WARNING:absl:Importing a function (__inference_block2b_se_reduce_layer_call_and_return_conditional_losses_220285) with ops with custom gradients. Will likely fail if a gradient is requested.\n",
      "WARNING:absl:Importing a function (__inference_block2b_expand_activation_layer_call_and_return_conditional_losses_204077) with ops with custom gradients. Will likely fail if a gradient is requested.\n",
      "WARNING:absl:Importing a function (__inference_block3b_expand_activation_layer_call_and_return_conditional_losses_214855) with ops with custom gradients. Will likely fail if a gradient is requested.\n",
      "WARNING:absl:Importing a function (__inference_block6a_activation_layer_call_and_return_conditional_losses_215074) with ops with custom gradients. Will likely fail if a gradient is requested.\n",
      "WARNING:absl:Importing a function (__inference_block7a_activation_layer_call_and_return_conditional_losses_192964) with ops with custom gradients. Will likely fail if a gradient is requested.\n",
      "WARNING:absl:Importing a function (__inference_block4b_activation_layer_call_and_return_conditional_losses_214572) with ops with custom gradients. Will likely fail if a gradient is requested.\n",
      "WARNING:absl:Importing a function (__inference_block4c_expand_activation_layer_call_and_return_conditional_losses_217160) with ops with custom gradients. Will likely fail if a gradient is requested.\n",
      "WARNING:absl:Importing a function (__inference_block6a_expand_activation_layer_call_and_return_conditional_losses_189094) with ops with custom gradients. Will likely fail if a gradient is requested.\n",
      "WARNING:absl:Importing a function (__inference_block7b_expand_activation_layer_call_and_return_conditional_losses_200179) with ops with custom gradients. Will likely fail if a gradient is requested.\n",
      "WARNING:absl:Importing a function (__inference_block3b_se_reduce_layer_call_and_return_conditional_losses_217144) with ops with custom gradients. Will likely fail if a gradient is requested.\n",
      "WARNING:absl:Importing a function (__inference_block2b_activation_layer_call_and_return_conditional_losses_217450) with ops with custom gradients. Will likely fail if a gradient is requested.\n",
      "WARNING:absl:Importing a function (__inference_block6a_activation_layer_call_and_return_conditional_losses_185921) with ops with custom gradients. Will likely fail if a gradient is requested.\n",
      "WARNING:absl:Importing a function (__inference_block6d_se_reduce_layer_call_and_return_conditional_losses_221470) with ops with custom gradients. Will likely fail if a gradient is requested.\n",
      "WARNING:absl:Importing a function (__inference_block6c_expand_activation_layer_call_and_return_conditional_losses_219968) with ops with custom gradients. Will likely fail if a gradient is requested.\n",
      "WARNING:absl:Importing a function (__inference_block7b_activation_layer_call_and_return_conditional_losses_219866) with ops with custom gradients. Will likely fail if a gradient is requested.\n",
      "WARNING:absl:Importing a function (__inference_block2a_se_reduce_layer_call_and_return_conditional_losses_203879) with ops with custom gradients. Will likely fail if a gradient is requested.\n",
      "WARNING:absl:Importing a function (__inference_block6e_se_reduce_layer_call_and_return_conditional_losses_214152) with ops with custom gradients. Will likely fail if a gradient is requested.\n",
      "WARNING:absl:Importing a function (__inference_block4a_activation_layer_call_and_return_conditional_losses_210195) with ops with custom gradients. Will likely fail if a gradient is requested.\n",
      "WARNING:absl:Importing a function (__inference_block5c_se_reduce_layer_call_and_return_conditional_losses_209264) with ops with custom gradients. Will likely fail if a gradient is requested.\n",
      "WARNING:absl:Importing a function (__inference_pruned_256331) with ops with custom gradients. Will likely fail if a gradient is requested.\n",
      "WARNING:absl:Importing a function (__inference_block4c_activation_layer_call_and_return_conditional_losses_185374) with ops with custom gradients. Will likely fail if a gradient is requested.\n",
      "WARNING:absl:Importing a function (__inference_block5c_expand_activation_layer_call_and_return_conditional_losses_215262) with ops with custom gradients. Will likely fail if a gradient is requested.\n",
      "WARNING:absl:Importing a function (__inference_block2b_se_reduce_layer_call_and_return_conditional_losses_213251) with ops with custom gradients. Will likely fail if a gradient is requested.\n",
      "WARNING:absl:Importing a function (__inference_block4a_se_reduce_layer_call_and_return_conditional_losses_213905) with ops with custom gradients. Will likely fail if a gradient is requested.\n",
      "WARNING:absl:Importing a function (__inference_block4b_se_reduce_layer_call_and_return_conditional_losses_215563) with ops with custom gradients. Will likely fail if a gradient is requested.\n"
     ]
    }
   ],
   "source": [
    "efficientnetb1_saved_model_loaded = tf.keras.models.load_model('custom_efficientnetb1_saved_model_TFTRT_INT8')"
   ]
  },
  {
   "cell_type": "code",
   "execution_count": 7,
   "id": "8a7dd9da-9bc3-47e1-9e6b-d04373e8b9d7",
   "metadata": {},
   "outputs": [],
   "source": [
    "efficientnetb1_saved_model_infer = {}\n",
    "for i in class_names:\n",
    "    efficientnetb1_saved_model_infer[i] = infer(i, efficientnetb1_saved_model_loaded)"
   ]
  },
  {
   "cell_type": "code",
   "execution_count": 8,
   "id": "0e650091-02e9-4da4-b585-f64ea588f6d4",
   "metadata": {
    "collapsed": true,
    "jupyter": {
     "outputs_hidden": true
    },
    "tags": []
   },
   "outputs": [
    {
     "data": {
      "text/plain": [
       "{'park_danger': [['park_danger',\n",
       "   'road_danger',\n",
       "   array([[1.7387732e-07, 2.7159424e-09, 9.9842691e-01, 8.4345320e-06,\n",
       "           1.2884867e-06, 1.5632474e-03]], dtype=float32)],\n",
       "  ['park_danger',\n",
       "   'road_danger',\n",
       "   array([[1.7387732e-07, 2.7159424e-09, 9.9842691e-01, 8.4345320e-06,\n",
       "           1.2884867e-06, 1.5632474e-03]], dtype=float32)],\n",
       "  ['park_danger',\n",
       "   'road_danger',\n",
       "   array([[1.7387732e-07, 2.7159424e-09, 9.9842691e-01, 8.4345320e-06,\n",
       "           1.2884867e-06, 1.5632474e-03]], dtype=float32)],\n",
       "  ['park_danger',\n",
       "   'road_danger',\n",
       "   array([[1.7387732e-07, 2.7159424e-09, 9.9842691e-01, 8.4345320e-06,\n",
       "           1.2884867e-06, 1.5632474e-03]], dtype=float32)],\n",
       "  ['park_danger',\n",
       "   'road_danger',\n",
       "   array([[1.7387732e-07, 2.7159424e-09, 9.9842691e-01, 8.4345320e-06,\n",
       "           1.2884867e-06, 1.5632474e-03]], dtype=float32)],\n",
       "  ['park_danger',\n",
       "   'road_danger',\n",
       "   array([[1.7387732e-07, 2.7159424e-09, 9.9842691e-01, 8.4345320e-06,\n",
       "           1.2884867e-06, 1.5632474e-03]], dtype=float32)],\n",
       "  ['park_danger',\n",
       "   'road_danger',\n",
       "   array([[1.7387732e-07, 2.7159424e-09, 9.9842691e-01, 8.4345320e-06,\n",
       "           1.2884867e-06, 1.5632474e-03]], dtype=float32)],\n",
       "  ['park_danger',\n",
       "   'road_danger',\n",
       "   array([[1.7387732e-07, 2.7159424e-09, 9.9842691e-01, 8.4345320e-06,\n",
       "           1.2884867e-06, 1.5632474e-03]], dtype=float32)],\n",
       "  ['park_danger',\n",
       "   'road_danger',\n",
       "   array([[1.7387732e-07, 2.7159424e-09, 9.9842691e-01, 8.4345320e-06,\n",
       "           1.2884867e-06, 1.5632474e-03]], dtype=float32)],\n",
       "  ['park_danger',\n",
       "   'road_danger',\n",
       "   array([[1.7387732e-07, 2.7159424e-09, 9.9842691e-01, 8.4345320e-06,\n",
       "           1.2884867e-06, 1.5632474e-03]], dtype=float32)]],\n",
       " 'park_safe': [['park_safe',\n",
       "   'road_danger',\n",
       "   array([[3.69545410e-12, 3.40866556e-15, 8.53994071e-01, 1.45941153e-01,\n",
       "           1.01602735e-08, 6.47140841e-05]], dtype=float32)],\n",
       "  ['park_safe',\n",
       "   'road_danger',\n",
       "   array([[3.69545410e-12, 3.40866556e-15, 8.53994071e-01, 1.45941153e-01,\n",
       "           1.01602735e-08, 6.47140841e-05]], dtype=float32)],\n",
       "  ['park_safe',\n",
       "   'road_danger',\n",
       "   array([[3.69545410e-12, 3.40866556e-15, 8.53994071e-01, 1.45941153e-01,\n",
       "           1.01602735e-08, 6.47140841e-05]], dtype=float32)],\n",
       "  ['park_safe',\n",
       "   'road_danger',\n",
       "   array([[3.69545410e-12, 3.40866556e-15, 8.53994071e-01, 1.45941153e-01,\n",
       "           1.01602735e-08, 6.47140841e-05]], dtype=float32)],\n",
       "  ['park_safe',\n",
       "   'road_danger',\n",
       "   array([[3.69545410e-12, 3.40866556e-15, 8.53994071e-01, 1.45941153e-01,\n",
       "           1.01602735e-08, 6.47140841e-05]], dtype=float32)],\n",
       "  ['park_safe',\n",
       "   'road_danger',\n",
       "   array([[3.69545410e-12, 3.40866556e-15, 8.53994071e-01, 1.45941153e-01,\n",
       "           1.01602735e-08, 6.47140841e-05]], dtype=float32)],\n",
       "  ['park_safe',\n",
       "   'road_danger',\n",
       "   array([[3.69545410e-12, 3.40866556e-15, 8.53994071e-01, 1.45941153e-01,\n",
       "           1.01602735e-08, 6.47140841e-05]], dtype=float32)],\n",
       "  ['park_safe',\n",
       "   'road_danger',\n",
       "   array([[3.69545410e-12, 3.40866556e-15, 8.53994071e-01, 1.45941153e-01,\n",
       "           1.01602735e-08, 6.47140841e-05]], dtype=float32)],\n",
       "  ['park_safe',\n",
       "   'road_danger',\n",
       "   array([[3.69545410e-12, 3.40866556e-15, 8.53994071e-01, 1.45941153e-01,\n",
       "           1.01602735e-08, 6.47140841e-05]], dtype=float32)],\n",
       "  ['park_safe',\n",
       "   'road_danger',\n",
       "   array([[3.69545410e-12, 3.40866556e-15, 8.53994071e-01, 1.45941153e-01,\n",
       "           1.01602735e-08, 6.47140841e-05]], dtype=float32)]],\n",
       " 'road_danger': [['road_danger',\n",
       "   'construction_danger',\n",
       "   array([[1.5868785e-10, 2.0261946e-10, 3.0342826e-13, 1.2050871e-15,\n",
       "           1.0000000e+00, 2.1570832e-09]], dtype=float32)],\n",
       "  ['road_danger',\n",
       "   'construction_danger',\n",
       "   array([[1.5868785e-10, 2.0261946e-10, 3.0342826e-13, 1.2050871e-15,\n",
       "           1.0000000e+00, 2.1570832e-09]], dtype=float32)],\n",
       "  ['road_danger',\n",
       "   'construction_danger',\n",
       "   array([[1.5868785e-10, 2.0261946e-10, 3.0342826e-13, 1.2050871e-15,\n",
       "           1.0000000e+00, 2.1570832e-09]], dtype=float32)],\n",
       "  ['road_danger',\n",
       "   'construction_danger',\n",
       "   array([[1.5868785e-10, 2.0261946e-10, 3.0342826e-13, 1.2050871e-15,\n",
       "           1.0000000e+00, 2.1570832e-09]], dtype=float32)],\n",
       "  ['road_danger',\n",
       "   'construction_danger',\n",
       "   array([[1.5868785e-10, 2.0261946e-10, 3.0342826e-13, 1.2050871e-15,\n",
       "           1.0000000e+00, 2.1570832e-09]], dtype=float32)],\n",
       "  ['road_danger',\n",
       "   'construction_danger',\n",
       "   array([[1.5868785e-10, 2.0261946e-10, 3.0342826e-13, 1.2050871e-15,\n",
       "           1.0000000e+00, 2.1570832e-09]], dtype=float32)],\n",
       "  ['road_danger',\n",
       "   'construction_danger',\n",
       "   array([[1.5868785e-10, 2.0261946e-10, 3.0342826e-13, 1.2050871e-15,\n",
       "           1.0000000e+00, 2.1570832e-09]], dtype=float32)],\n",
       "  ['road_danger',\n",
       "   'construction_danger',\n",
       "   array([[1.5868785e-10, 2.0261946e-10, 3.0342826e-13, 1.2050871e-15,\n",
       "           1.0000000e+00, 2.1570832e-09]], dtype=float32)],\n",
       "  ['road_danger',\n",
       "   'construction_danger',\n",
       "   array([[1.5868785e-10, 2.0261946e-10, 3.0342826e-13, 1.2050871e-15,\n",
       "           1.0000000e+00, 2.1570832e-09]], dtype=float32)],\n",
       "  ['road_danger',\n",
       "   'construction_danger',\n",
       "   array([[1.5868785e-10, 2.0261946e-10, 3.0342826e-13, 1.2050871e-15,\n",
       "           1.0000000e+00, 2.1570832e-09]], dtype=float32)]],\n",
       " 'road_safe': [['road_safe',\n",
       "   'road_danger',\n",
       "   array([[2.0172558e-07, 3.3665134e-07, 9.7943646e-01, 1.0167466e-05,\n",
       "           1.8702531e-05, 2.0534128e-02]], dtype=float32)],\n",
       "  ['road_safe',\n",
       "   'road_danger',\n",
       "   array([[2.0172558e-07, 3.3665134e-07, 9.7943646e-01, 1.0167466e-05,\n",
       "           1.8702531e-05, 2.0534128e-02]], dtype=float32)],\n",
       "  ['road_safe',\n",
       "   'road_danger',\n",
       "   array([[2.0172558e-07, 3.3665134e-07, 9.7943646e-01, 1.0167466e-05,\n",
       "           1.8702531e-05, 2.0534128e-02]], dtype=float32)],\n",
       "  ['road_safe',\n",
       "   'road_danger',\n",
       "   array([[2.0172558e-07, 3.3665134e-07, 9.7943646e-01, 1.0167466e-05,\n",
       "           1.8702531e-05, 2.0534128e-02]], dtype=float32)],\n",
       "  ['road_safe',\n",
       "   'road_danger',\n",
       "   array([[2.0172558e-07, 3.3665134e-07, 9.7943646e-01, 1.0167466e-05,\n",
       "           1.8702531e-05, 2.0534128e-02]], dtype=float32)],\n",
       "  ['road_safe',\n",
       "   'road_danger',\n",
       "   array([[2.0172558e-07, 3.3665134e-07, 9.7943646e-01, 1.0167466e-05,\n",
       "           1.8702531e-05, 2.0534128e-02]], dtype=float32)],\n",
       "  ['road_safe',\n",
       "   'road_danger',\n",
       "   array([[2.0172558e-07, 3.3665134e-07, 9.7943646e-01, 1.0167466e-05,\n",
       "           1.8702531e-05, 2.0534128e-02]], dtype=float32)],\n",
       "  ['road_safe',\n",
       "   'road_danger',\n",
       "   array([[2.0172558e-07, 3.3665134e-07, 9.7943646e-01, 1.0167466e-05,\n",
       "           1.8702531e-05, 2.0534128e-02]], dtype=float32)],\n",
       "  ['road_safe',\n",
       "   'road_danger',\n",
       "   array([[2.0172558e-07, 3.3665134e-07, 9.7943646e-01, 1.0167466e-05,\n",
       "           1.8702531e-05, 2.0534128e-02]], dtype=float32)],\n",
       "  ['road_safe',\n",
       "   'road_danger',\n",
       "   array([[2.0172558e-07, 3.3665134e-07, 9.7943646e-01, 1.0167466e-05,\n",
       "           1.8702531e-05, 2.0534128e-02]], dtype=float32)]],\n",
       " 'construction_danger': [['construction_danger',\n",
       "   'park_danger',\n",
       "   array([[9.9995232e-01, 2.0043071e-06, 2.4902497e-10, 1.3643248e-08,\n",
       "           1.4097020e-08, 4.5614193e-05]], dtype=float32)],\n",
       "  ['construction_danger',\n",
       "   'park_danger',\n",
       "   array([[9.9995232e-01, 2.0043071e-06, 2.4902497e-10, 1.3643248e-08,\n",
       "           1.4097020e-08, 4.5614193e-05]], dtype=float32)],\n",
       "  ['construction_danger',\n",
       "   'park_danger',\n",
       "   array([[9.9995232e-01, 2.0043071e-06, 2.4902497e-10, 1.3643248e-08,\n",
       "           1.4097020e-08, 4.5614193e-05]], dtype=float32)],\n",
       "  ['construction_danger',\n",
       "   'park_danger',\n",
       "   array([[9.9995232e-01, 2.0043071e-06, 2.4902497e-10, 1.3643248e-08,\n",
       "           1.4097020e-08, 4.5614193e-05]], dtype=float32)],\n",
       "  ['construction_danger',\n",
       "   'park_danger',\n",
       "   array([[9.9995232e-01, 2.0043071e-06, 2.4902497e-10, 1.3643248e-08,\n",
       "           1.4097020e-08, 4.5614193e-05]], dtype=float32)],\n",
       "  ['construction_danger',\n",
       "   'park_danger',\n",
       "   array([[9.9995232e-01, 2.0043071e-06, 2.4902497e-10, 1.3643248e-08,\n",
       "           1.4097020e-08, 4.5614193e-05]], dtype=float32)],\n",
       "  ['construction_danger',\n",
       "   'park_danger',\n",
       "   array([[9.9995232e-01, 2.0043071e-06, 2.4902497e-10, 1.3643248e-08,\n",
       "           1.4097020e-08, 4.5614193e-05]], dtype=float32)],\n",
       "  ['construction_danger',\n",
       "   'park_danger',\n",
       "   array([[9.9995232e-01, 2.0043071e-06, 2.4902497e-10, 1.3643248e-08,\n",
       "           1.4097020e-08, 4.5614193e-05]], dtype=float32)],\n",
       "  ['construction_danger',\n",
       "   'park_danger',\n",
       "   array([[9.9995232e-01, 2.0043071e-06, 2.4902497e-10, 1.3643248e-08,\n",
       "           1.4097020e-08, 4.5614193e-05]], dtype=float32)],\n",
       "  ['construction_danger',\n",
       "   'park_danger',\n",
       "   array([[9.9995232e-01, 2.0043071e-06, 2.4902497e-10, 1.3643248e-08,\n",
       "           1.4097020e-08, 4.5614193e-05]], dtype=float32)]],\n",
       " 'construction_safe': [['construction_safe',\n",
       "   'park_safe',\n",
       "   array([[8.4513185e-06, 9.9999082e-01, 1.6511354e-15, 2.0570109e-16,\n",
       "           7.0185132e-07, 3.4346733e-08]], dtype=float32)],\n",
       "  ['construction_safe',\n",
       "   'park_safe',\n",
       "   array([[8.4513185e-06, 9.9999082e-01, 1.6511354e-15, 2.0570109e-16,\n",
       "           7.0185132e-07, 3.4346733e-08]], dtype=float32)],\n",
       "  ['construction_safe',\n",
       "   'park_safe',\n",
       "   array([[8.4513185e-06, 9.9999082e-01, 1.6511354e-15, 2.0570109e-16,\n",
       "           7.0185132e-07, 3.4346733e-08]], dtype=float32)],\n",
       "  ['construction_safe',\n",
       "   'park_safe',\n",
       "   array([[8.4513185e-06, 9.9999082e-01, 1.6511354e-15, 2.0570109e-16,\n",
       "           7.0185132e-07, 3.4346733e-08]], dtype=float32)],\n",
       "  ['construction_safe',\n",
       "   'park_safe',\n",
       "   array([[8.4513185e-06, 9.9999082e-01, 1.6511354e-15, 2.0570109e-16,\n",
       "           7.0185132e-07, 3.4346733e-08]], dtype=float32)],\n",
       "  ['construction_safe',\n",
       "   'park_safe',\n",
       "   array([[8.4513185e-06, 9.9999082e-01, 1.6511354e-15, 2.0570109e-16,\n",
       "           7.0185132e-07, 3.4346733e-08]], dtype=float32)],\n",
       "  ['construction_safe',\n",
       "   'park_safe',\n",
       "   array([[8.4513185e-06, 9.9999082e-01, 1.6511354e-15, 2.0570109e-16,\n",
       "           7.0185132e-07, 3.4346733e-08]], dtype=float32)],\n",
       "  ['construction_safe',\n",
       "   'park_safe',\n",
       "   array([[8.4513185e-06, 9.9999082e-01, 1.6511354e-15, 2.0570109e-16,\n",
       "           7.0185132e-07, 3.4346733e-08]], dtype=float32)],\n",
       "  ['construction_safe',\n",
       "   'park_safe',\n",
       "   array([[8.4513185e-06, 9.9999082e-01, 1.6511354e-15, 2.0570109e-16,\n",
       "           7.0185132e-07, 3.4346733e-08]], dtype=float32)],\n",
       "  ['construction_safe',\n",
       "   'park_safe',\n",
       "   array([[8.4513185e-06, 9.9999082e-01, 1.6511354e-15, 2.0570109e-16,\n",
       "           7.0185132e-07, 3.4346733e-08]], dtype=float32)]]}"
      ]
     },
     "execution_count": 8,
     "metadata": {},
     "output_type": "execute_result"
    }
   ],
   "source": [
    "efficientnetb1_saved_model_infer"
   ]
  },
  {
   "cell_type": "code",
   "execution_count": 12,
   "id": "97cbefe2-600f-4084-8315-fbecebb708d6",
   "metadata": {},
   "outputs": [
    {
     "data": {
      "text/plain": [
       "'road_danger'"
      ]
     },
     "execution_count": 12,
     "metadata": {},
     "output_type": "execute_result"
    }
   ],
   "source": [
    "efficientnetb1_saved_model_infer['park_danger'][0][1]"
   ]
  },
  {
   "cell_type": "code",
   "execution_count": 9,
   "id": "bf6c46ef-3ad6-4375-a093-adecb30ef1ee",
   "metadata": {},
   "outputs": [],
   "source": [
    "_efficientnetb1_saved_model_infer = {}\n",
    "for i in class_names:\n",
    "    _efficientnetb1_saved_model_infer[i] = 0"
   ]
  },
  {
   "cell_type": "code",
   "execution_count": 14,
   "id": "97d2fba5-410d-4bfa-a930-373f6e106ace",
   "metadata": {},
   "outputs": [],
   "source": [
    "for label in class_names:\n",
    "    count = {}\n",
    "    for i in class_names:\n",
    "        count[i] = 0\n",
    "    for res in efficientnetb1_saved_model_infer[label]:\n",
    "        count[res[1]] += 1\n",
    "    _efficientnetb1_saved_model_infer[label] = count"
   ]
  },
  {
   "cell_type": "code",
   "execution_count": 15,
   "id": "f915857d-0c6e-4e8d-a89a-68f612f06002",
   "metadata": {},
   "outputs": [
    {
     "data": {
      "text/plain": [
       "{'park_danger': {'park_danger': 0,\n",
       "  'park_safe': 0,\n",
       "  'road_danger': 10,\n",
       "  'road_safe': 0,\n",
       "  'construction_danger': 0,\n",
       "  'construction_safe': 0},\n",
       " 'park_safe': {'park_danger': 0,\n",
       "  'park_safe': 0,\n",
       "  'road_danger': 10,\n",
       "  'road_safe': 0,\n",
       "  'construction_danger': 0,\n",
       "  'construction_safe': 0},\n",
       " 'road_danger': {'park_danger': 0,\n",
       "  'park_safe': 0,\n",
       "  'road_danger': 0,\n",
       "  'road_safe': 0,\n",
       "  'construction_danger': 10,\n",
       "  'construction_safe': 0},\n",
       " 'road_safe': {'park_danger': 0,\n",
       "  'park_safe': 0,\n",
       "  'road_danger': 10,\n",
       "  'road_safe': 0,\n",
       "  'construction_danger': 0,\n",
       "  'construction_safe': 0},\n",
       " 'construction_danger': {'park_danger': 10,\n",
       "  'park_safe': 0,\n",
       "  'road_danger': 0,\n",
       "  'road_safe': 0,\n",
       "  'construction_danger': 0,\n",
       "  'construction_safe': 0},\n",
       " 'construction_safe': {'park_danger': 0,\n",
       "  'park_safe': 10,\n",
       "  'road_danger': 0,\n",
       "  'road_safe': 0,\n",
       "  'construction_danger': 0,\n",
       "  'construction_safe': 0}}"
      ]
     },
     "execution_count": 15,
     "metadata": {},
     "output_type": "execute_result"
    }
   ],
   "source": [
    "_efficientnetb1_saved_model_infer"
   ]
  },
  {
   "cell_type": "code",
   "execution_count": null,
   "id": "dd93acf3-cc90-415e-97b4-cff9334c069a",
   "metadata": {},
   "outputs": [],
   "source": []
  }
 ],
 "metadata": {
  "kernelspec": {
   "display_name": "tf_2.5.0",
   "language": "python",
   "name": "tf_2.5.0"
  },
  "language_info": {
   "codemirror_mode": {
    "name": "ipython",
    "version": 3
   },
   "file_extension": ".py",
   "mimetype": "text/x-python",
   "name": "python",
   "nbconvert_exporter": "python",
   "pygments_lexer": "ipython3",
   "version": "3.6.9"
  }
 },
 "nbformat": 4,
 "nbformat_minor": 5
}
