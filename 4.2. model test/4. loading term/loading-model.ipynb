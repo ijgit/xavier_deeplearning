{
 "cells": [
  {
   "cell_type": "markdown",
   "id": "5410ba67-3b9d-461c-9aa4-f249cf305752",
   "metadata": {},
   "source": [
    "모델 구조와 가중치를 파일 형태로 저장하고, 이를 다시 로드하거나 모델 끼리 가중치를 변경하는 코드이다."
   ]
  },
  {
   "cell_type": "code",
   "execution_count": 1,
   "id": "151bfdc6-2704-46eb-a2f4-d373761bb4f2",
   "metadata": {},
   "outputs": [],
   "source": [
    "import tensorflow as tf\n",
    "import time"
   ]
  },
  {
   "cell_type": "code",
   "execution_count": 2,
   "id": "ba3d1288-d64c-4f9d-bd23-2af860b867da",
   "metadata": {},
   "outputs": [],
   "source": [
    "custom_model_path = '../saved_models/custom_saved_model'\n",
    "test_custom_model_path = '../saved_models/test_custom_saved_model'"
   ]
  },
  {
   "cell_type": "code",
   "execution_count": 21,
   "id": "1858f4ea-8214-48e2-8e2f-102d4fbcb402",
   "metadata": {
    "tags": []
   },
   "outputs": [
    {
     "data": {
      "text/plain": [
       "13.966428518295288"
      ]
     },
     "execution_count": 21,
     "metadata": {},
     "output_type": "execute_result"
    }
   ],
   "source": [
    "\"\"\"\n",
    "모델을 로드한다.\n",
    "\"\"\"\n",
    "\n",
    "start = time.time()\n",
    "model = tf.keras.models.load_model(custom_model_path)\n",
    "# test_model = tf.keras.models.load_model(test_custom_model_path)\n",
    "\n",
    "end = time.time()\n",
    "term = end - start\n",
    "term"
   ]
  },
  {
   "cell_type": "code",
   "execution_count": 5,
   "id": "8eed19ac-2f54-4fe9-a4b9-bbd7fc420739",
   "metadata": {},
   "outputs": [],
   "source": [
    "\"\"\"\n",
    "모델 가중치를 저장한다.\n",
    "\"\"\"\n",
    "\n",
    "model.save_weights('weights.h5')\n",
    "test_model.save_weights('test_weights.h5')"
   ]
  },
  {
   "cell_type": "code",
   "execution_count": 6,
   "id": "b24a16e5-7356-4efb-89ae-5bd5938230be",
   "metadata": {},
   "outputs": [],
   "source": [
    "\"\"\"\n",
    "모델 구조를 저장한다.\n",
    "\"\"\"\n",
    "\n",
    "model_config = model.to_json()\n",
    "with open('model_config.json', 'w') as json_file:\n",
    "    json_file.write(model_config)\n",
    "    \n",
    "    \n",
    "test_model_config = test_model.to_json()\n",
    "with open('test_model_config.json', 'w') as json_file:\n",
    "    json_file.write(test_model_config)"
   ]
  },
  {
   "cell_type": "code",
   "execution_count": 16,
   "id": "11a70ca1-4807-4170-8114-f2e2e6a0d833",
   "metadata": {},
   "outputs": [
    {
     "data": {
      "text/plain": [
       "0.06315445899963379"
      ]
     },
     "execution_count": 16,
     "metadata": {},
     "output_type": "execute_result"
    }
   ],
   "source": [
    "\"\"\"\n",
    "모델 가중치 변경 시간 측정\n",
    "\"\"\"\n",
    "\n",
    "start = time.time()\n",
    "\n",
    "model.set_weights(test_model.get_weights())\n",
    "model.compile(loss=tf.keras.losses.SparseCategoricalCrossentropy(from_logits=False), optimizer=\"adam\", metrics=['accuracy'])\n",
    "\n",
    "\n",
    "end = time.time()\n",
    "term = end - start\n",
    "term"
   ]
  },
  {
   "cell_type": "code",
   "execution_count": 10,
   "id": "ac8da72a-f661-41b0-8782-d291f6edcfb7",
   "metadata": {},
   "outputs": [
    {
     "data": {
      "text/plain": [
       "1.0285000801086426"
      ]
     },
     "execution_count": 10,
     "metadata": {},
     "output_type": "execute_result"
    }
   ],
   "source": [
    "\"\"\"\n",
    "모델 로드하기\n",
    "\"\"\"\n",
    "\n",
    "start = time.time()\n",
    "\n",
    "with open('model_config.json', 'r') as json_file:\n",
    "    loaded_model_json = json_file.read()\n",
    "loaded_model = tf.keras.models.model_from_json(loaded_model_json)\n",
    "\n",
    "end = time.time()\n",
    "term = end - start\n",
    "term"
   ]
  },
  {
   "cell_type": "code",
   "execution_count": 15,
   "id": "0ef35961-ffc6-4e53-8cac-12b03c746a3d",
   "metadata": {},
   "outputs": [
    {
     "data": {
      "text/plain": [
       "0.07877182960510254"
      ]
     },
     "execution_count": 15,
     "metadata": {},
     "output_type": "execute_result"
    }
   ],
   "source": [
    "\"\"\"\n",
    "가중치 로드 후, 컴파일하기\n",
    "\"\"\"\n",
    "\n",
    "start = time.time()\n",
    "\n",
    "loaded_model.load_weights('weights.h5')\n",
    "loaded_model.compile(loss=tf.keras.losses.SparseCategoricalCrossentropy(from_logits=False), optimizer=\"adam\", metrics=['accuracy'])\n",
    "\n",
    "end = time.time()\n",
    "term = end - start\n",
    "term"
   ]
  },
  {
   "cell_type": "code",
   "execution_count": 22,
   "id": "8d14aca3-73cd-49fe-9c66-9c4a676535c1",
   "metadata": {},
   "outputs": [
    {
     "data": {
      "text/plain": [
       "1.107442855834961"
      ]
     },
     "execution_count": 22,
     "metadata": {},
     "output_type": "execute_result"
    }
   ],
   "source": [
    "\"\"\"\n",
    "전체 시간 측정\n",
    "\"\"\"\n",
    "\n",
    "start = time.time()\n",
    "\n",
    "with open('model_config.json', 'r') as json_file:\n",
    "    loaded_model_json = json_file.read()\n",
    "loaded_model = tf.keras.models.model_from_json(loaded_model_json)\n",
    "loaded_model.load_weights('weights.h5')\n",
    "loaded_model.compile(loss=tf.keras.losses.SparseCategoricalCrossentropy(from_logits=False), optimizer=\"adam\", metrics=['accuracy'])\n",
    "\n",
    "end = time.time()\n",
    "term = end - start\n",
    "term"
   ]
  },
  {
   "cell_type": "code",
   "execution_count": null,
   "id": "d2fa65b7-40e5-4e14-b081-b2a2489889fd",
   "metadata": {},
   "outputs": [],
   "source": []
  }
 ],
 "metadata": {
  "kernelspec": {
   "display_name": "_tf_2.5.0",
   "language": "python",
   "name": "_tf_2.5.0"
  },
  "language_info": {
   "codemirror_mode": {
    "name": "ipython",
    "version": 3
   },
   "file_extension": ".py",
   "mimetype": "text/x-python",
   "name": "python",
   "nbconvert_exporter": "python",
   "pygments_lexer": "ipython3",
   "version": "3.6.9"
  }
 },
 "nbformat": 4,
 "nbformat_minor": 5
}
