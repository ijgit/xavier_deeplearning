{
 "cells": [
  {
   "cell_type": "code",
   "execution_count": 1,
   "id": "f64b84f3-d74f-4b19-ac26-72dc63745bc9",
   "metadata": {},
   "outputs": [],
   "source": [
    "import tensorflow as tf"
   ]
  },
  {
   "cell_type": "code",
   "execution_count": 2,
   "id": "1ba7f46b-0354-4952-a812-b8bcad53da2d",
   "metadata": {},
   "outputs": [
    {
     "name": "stdout",
     "output_type": "stream",
     "text": [
      "INFO:tensorflow:Assets written to: ../saved_models/2contexts_saved_model/assets\n"
     ]
    }
   ],
   "source": [
    "'''\n",
    "2contexts 는 road 데이터를 제외하고 훈련된 모델\n",
    "'''\n",
    "loaded_model = tf.keras.models.load_model('../saved_models/weights/2contexts.h5')\n",
    "loaded_model.save('../saved_models/2contexts_saved_model')"
   ]
  },
  {
   "cell_type": "code",
   "execution_count": 3,
   "id": "1ea618c7-c553-4dd8-a47a-ef5a2f85b782",
   "metadata": {
    "tags": []
   },
   "outputs": [
    {
     "name": "stdout",
     "output_type": "stream",
     "text": [
      "INFO:tensorflow:Assets written to: ../saved_models/custom_saved_model/assets\n"
     ]
    }
   ],
   "source": [
    "loaded_model = tf.keras.models.load_model('../saved_models/weights/custom_model.h5')\n",
    "loaded_model.save('../saved_models/custom_saved_model')"
   ]
  },
  {
   "cell_type": "code",
   "execution_count": 4,
   "id": "c6367271-ee61-4d67-a037-ca41b48c4732",
   "metadata": {
    "tags": []
   },
   "outputs": [
    {
     "name": "stderr",
     "output_type": "stream",
     "text": [
      "/home/keti/tf_2.5.0/lib/python3.6/site-packages/tensorflow/python/keras/utils/generic_utils.py:497: CustomMaskWarning: Custom mask layers require a config and must override get_config. When loading, the custom mask layer must be passed to the custom_objects argument.\n",
      "  category=CustomMaskWarning)\n"
     ]
    },
    {
     "name": "stdout",
     "output_type": "stream",
     "text": [
      "INFO:tensorflow:Assets written to: ../saved_models/custom_resnet_saved_model/assets\n"
     ]
    }
   ],
   "source": [
    "loaded_model = tf.keras.models.load_model('../saved_models/weights/model_custom_resnet.h5')\n",
    "loaded_model.save('../saved_models/custom_resnet_saved_model')"
   ]
  },
  {
   "cell_type": "code",
   "execution_count": 5,
   "id": "b751d3a9-c0bd-4189-994a-fa02941633e1",
   "metadata": {
    "tags": []
   },
   "outputs": [
    {
     "name": "stderr",
     "output_type": "stream",
     "text": [
      "/home/keti/tf_2.5.0/lib/python3.6/site-packages/tensorflow/python/keras/utils/generic_utils.py:497: CustomMaskWarning: Custom mask layers require a config and must override get_config. When loading, the custom mask layer must be passed to the custom_objects argument.\n",
      "  category=CustomMaskWarning)\n"
     ]
    },
    {
     "name": "stdout",
     "output_type": "stream",
     "text": [
      "INFO:tensorflow:Assets written to: ../saved_models/custom_mobilenetv2_saved_model/assets\n"
     ]
    }
   ],
   "source": [
    "loaded_model = tf.keras.models.load_model('../saved_models/weights/mobilenetv2.h5')\n",
    "loaded_model.save('../saved_models/custom_mobilenetv2_saved_model')"
   ]
  },
  {
   "cell_type": "code",
   "execution_count": 6,
   "id": "d8d8a23a-13d8-4c89-bd91-5605b33daf54",
   "metadata": {
    "tags": []
   },
   "outputs": [
    {
     "name": "stderr",
     "output_type": "stream",
     "text": [
      "/home/keti/tf_2.5.0/lib/python3.6/site-packages/tensorflow/python/keras/utils/generic_utils.py:497: CustomMaskWarning: Custom mask layers require a config and must override get_config. When loading, the custom mask layer must be passed to the custom_objects argument.\n",
      "  category=CustomMaskWarning)\n"
     ]
    },
    {
     "name": "stdout",
     "output_type": "stream",
     "text": [
      "INFO:tensorflow:Assets written to: ../saved_models/custom_efficientnetb2_saved_model/assets\n"
     ]
    }
   ],
   "source": [
    "loaded_model = tf.keras.models.load_model('../saved_models/weights/efficientnetb2.h5')\n",
    "loaded_model.save('../saved_models/custom_efficientnetb2_saved_model')"
   ]
  },
  {
   "cell_type": "code",
   "execution_count": 7,
   "id": "b56e7300-b9bc-4658-8813-81114d237c6a",
   "metadata": {},
   "outputs": [
    {
     "name": "stderr",
     "output_type": "stream",
     "text": [
      "/home/keti/tf_2.5.0/lib/python3.6/site-packages/tensorflow/python/keras/utils/generic_utils.py:497: CustomMaskWarning: Custom mask layers require a config and must override get_config. When loading, the custom mask layer must be passed to the custom_objects argument.\n",
      "  category=CustomMaskWarning)\n"
     ]
    },
    {
     "name": "stdout",
     "output_type": "stream",
     "text": [
      "INFO:tensorflow:Assets written to: ../saved_models/custom_efficientnetb1_saved_model/assets\n"
     ]
    }
   ],
   "source": [
    "loaded_model = tf.keras.models.load_model('../saved_models/weights/efficientnetb1.h5')\n",
    "loaded_model.save('../saved_models/custom_efficientnetb1_saved_model')"
   ]
  },
  {
   "cell_type": "code",
   "execution_count": null,
   "id": "1dee895b-5aa7-41fd-879d-2c4e38a709fe",
   "metadata": {},
   "outputs": [],
   "source": []
  }
 ],
 "metadata": {
  "kernelspec": {
   "display_name": "tf_2.5.0",
   "language": "python",
   "name": "tf_2.5.0"
  },
  "language_info": {
   "codemirror_mode": {
    "name": "ipython",
    "version": 3
   },
   "file_extension": ".py",
   "mimetype": "text/x-python",
   "name": "python",
   "nbconvert_exporter": "python",
   "pygments_lexer": "ipython3",
   "version": "3.6.9"
  }
 },
 "nbformat": 4,
 "nbformat_minor": 5
}
